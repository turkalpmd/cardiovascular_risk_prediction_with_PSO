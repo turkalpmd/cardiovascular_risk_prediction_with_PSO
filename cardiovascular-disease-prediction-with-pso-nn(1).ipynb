{
 "cells": [
  {
   "cell_type": "code",
   "execution_count": 1,
   "id": "4d13835e",
   "metadata": {
    "_cell_guid": "b1076dfc-b9ad-4769-8c92-a6c4dae69d19",
    "_uuid": "8f2839f25d086af736a60e9eeb907d3b93b6e0e5",
    "execution": {
     "iopub.execute_input": "2022-07-04T13:18:33.433590Z",
     "iopub.status.busy": "2022-07-04T13:18:33.433114Z",
     "iopub.status.idle": "2022-07-04T13:18:33.455280Z",
     "shell.execute_reply": "2022-07-04T13:18:33.454134Z"
    },
    "papermill": {
     "duration": 0.038885,
     "end_time": "2022-07-04T13:18:33.458099",
     "exception": false,
     "start_time": "2022-07-04T13:18:33.419214",
     "status": "completed"
    },
    "tags": []
   },
   "outputs": [
    {
     "name": "stdout",
     "output_type": "stream",
     "text": [
      "/kaggle/input/cardiovascular-disease-dataset/cardio_train.csv\n"
     ]
    }
   ],
   "source": [
    "# This Python 3 environment comes with many helpful analytics libraries installed\n",
    "# It is defined by the kaggle/python Docker image: https://github.com/kaggle/docker-python\n",
    "# For example, here's several helpful packages to load\n",
    "\n",
    "import numpy as np # linear algebra\n",
    "import pandas as pd # data processing, CSV file I/O (e.g. pd.read_csv)\n",
    "\n",
    "# Input data files are available in the read-only \"../input/\" directory\n",
    "# For example, running this (by clicking run or pressing Shift+Enter) will list all files under the input directory\n",
    "\n",
    "import os\n",
    "for dirname, _, filenames in os.walk('/kaggle/input'):\n",
    "    for filename in filenames:\n",
    "        print(os.path.join(dirname, filename))\n",
    "\n",
    "# You can write up to 20GB to the current directory (/kaggle/working/) that gets preserved as output when you create a version using \"Save & Run All\" \n",
    "# You can also write temporary files to /kaggle/temp/, but they won't be saved outside of the current session"
   ]
  },
  {
   "cell_type": "code",
   "execution_count": 2,
   "id": "b334d28e",
   "metadata": {
    "collapsed": true,
    "execution": {
     "iopub.execute_input": "2022-07-04T13:18:33.482390Z",
     "iopub.status.busy": "2022-07-04T13:18:33.481437Z",
     "iopub.status.idle": "2022-07-04T13:18:45.237070Z",
     "shell.execute_reply": "2022-07-04T13:18:45.236144Z"
    },
    "jupyter": {
     "outputs_hidden": true
    },
    "papermill": {
     "duration": 11.771474,
     "end_time": "2022-07-04T13:18:45.239639",
     "exception": false,
     "start_time": "2022-07-04T13:18:33.468165",
     "status": "completed"
    },
    "tags": []
   },
   "outputs": [
    {
     "name": "stdout",
     "output_type": "stream",
     "text": [
      "Collecting pyswarms\r\n",
      "  Downloading pyswarms-1.3.0-py2.py3-none-any.whl (104 kB)\r\n",
      "\u001b[2K     \u001b[90m━━━━━━━━━━━━━━━━━━━━━━━━━━━━━━━━━━━━━\u001b[0m \u001b[32m104.1/104.1 kB\u001b[0m \u001b[31m482.7 kB/s\u001b[0m eta \u001b[36m0:00:00\u001b[0m\r\n",
      "\u001b[?25hRequirement already satisfied: pyyaml in /opt/conda/lib/python3.7/site-packages (from pyswarms) (6.0)\r\n",
      "Requirement already satisfied: attrs in /opt/conda/lib/python3.7/site-packages (from pyswarms) (21.4.0)\r\n",
      "Requirement already satisfied: matplotlib>=1.3.1 in /opt/conda/lib/python3.7/site-packages (from pyswarms) (3.5.2)\r\n",
      "Requirement already satisfied: tqdm in /opt/conda/lib/python3.7/site-packages (from pyswarms) (4.64.0)\r\n",
      "Requirement already satisfied: scipy in /opt/conda/lib/python3.7/site-packages (from pyswarms) (1.7.3)\r\n",
      "Requirement already satisfied: numpy in /opt/conda/lib/python3.7/site-packages (from pyswarms) (1.21.6)\r\n",
      "Requirement already satisfied: future in /opt/conda/lib/python3.7/site-packages (from pyswarms) (0.18.2)\r\n",
      "Requirement already satisfied: pillow>=6.2.0 in /opt/conda/lib/python3.7/site-packages (from matplotlib>=1.3.1->pyswarms) (9.1.1)\r\n",
      "Requirement already satisfied: fonttools>=4.22.0 in /opt/conda/lib/python3.7/site-packages (from matplotlib>=1.3.1->pyswarms) (4.33.3)\r\n",
      "Requirement already satisfied: python-dateutil>=2.7 in /opt/conda/lib/python3.7/site-packages (from matplotlib>=1.3.1->pyswarms) (2.8.2)\r\n",
      "Requirement already satisfied: kiwisolver>=1.0.1 in /opt/conda/lib/python3.7/site-packages (from matplotlib>=1.3.1->pyswarms) (1.4.2)\r\n",
      "Requirement already satisfied: pyparsing>=2.2.1 in /opt/conda/lib/python3.7/site-packages (from matplotlib>=1.3.1->pyswarms) (3.0.9)\r\n",
      "Requirement already satisfied: packaging>=20.0 in /opt/conda/lib/python3.7/site-packages (from matplotlib>=1.3.1->pyswarms) (21.3)\r\n",
      "Requirement already satisfied: cycler>=0.10 in /opt/conda/lib/python3.7/site-packages (from matplotlib>=1.3.1->pyswarms) (0.11.0)\r\n",
      "Requirement already satisfied: typing-extensions in /opt/conda/lib/python3.7/site-packages (from kiwisolver>=1.0.1->matplotlib>=1.3.1->pyswarms) (4.1.1)\r\n",
      "Requirement already satisfied: six>=1.5 in /opt/conda/lib/python3.7/site-packages (from python-dateutil>=2.7->matplotlib>=1.3.1->pyswarms) (1.16.0)\r\n",
      "Installing collected packages: pyswarms\r\n",
      "Successfully installed pyswarms-1.3.0\r\n",
      "\u001b[33mWARNING: Running pip as the 'root' user can result in broken permissions and conflicting behaviour with the system package manager. It is recommended to use a virtual environment instead: https://pip.pypa.io/warnings/venv\u001b[0m\u001b[33m\r\n",
      "\u001b[0m"
     ]
    }
   ],
   "source": [
    "# I use these libraries\n",
    "!pip install pyswarms\n",
    "#!pip install pycaret --ignore-installed llvmlite"
   ]
  },
  {
   "cell_type": "code",
   "execution_count": 3,
   "id": "f03773df",
   "metadata": {
    "execution": {
     "iopub.execute_input": "2022-07-04T13:18:45.262313Z",
     "iopub.status.busy": "2022-07-04T13:18:45.261934Z",
     "iopub.status.idle": "2022-07-04T13:18:46.407379Z",
     "shell.execute_reply": "2022-07-04T13:18:46.406224Z"
    },
    "papermill": {
     "duration": 1.160527,
     "end_time": "2022-07-04T13:18:46.410512",
     "exception": false,
     "start_time": "2022-07-04T13:18:45.249985",
     "status": "completed"
    },
    "tags": []
   },
   "outputs": [],
   "source": [
    "import pyswarms as ps\n",
    "import numpy as np\n",
    "import pandas as pd\n",
    "import matplotlib.pyplot as plt\n",
    "import seaborn as sns\n",
    "import warnings\n",
    "warnings.filterwarnings(\"ignore\")"
   ]
  },
  {
   "cell_type": "code",
   "execution_count": 4,
   "id": "8d5bcbb5",
   "metadata": {
    "execution": {
     "iopub.execute_input": "2022-07-04T13:18:46.439298Z",
     "iopub.status.busy": "2022-07-04T13:18:46.438410Z",
     "iopub.status.idle": "2022-07-04T13:18:46.569106Z",
     "shell.execute_reply": "2022-07-04T13:18:46.567981Z"
    },
    "papermill": {
     "duration": 0.145218,
     "end_time": "2022-07-04T13:18:46.571572",
     "exception": false,
     "start_time": "2022-07-04T13:18:46.426354",
     "status": "completed"
    },
    "tags": []
   },
   "outputs": [
    {
     "data": {
      "text/html": [
       "<div>\n",
       "<style scoped>\n",
       "    .dataframe tbody tr th:only-of-type {\n",
       "        vertical-align: middle;\n",
       "    }\n",
       "\n",
       "    .dataframe tbody tr th {\n",
       "        vertical-align: top;\n",
       "    }\n",
       "\n",
       "    .dataframe thead th {\n",
       "        text-align: right;\n",
       "    }\n",
       "</style>\n",
       "<table border=\"1\" class=\"dataframe\">\n",
       "  <thead>\n",
       "    <tr style=\"text-align: right;\">\n",
       "      <th></th>\n",
       "      <th>id</th>\n",
       "      <th>age</th>\n",
       "      <th>gender</th>\n",
       "      <th>height</th>\n",
       "      <th>weight</th>\n",
       "      <th>ap_hi</th>\n",
       "      <th>ap_lo</th>\n",
       "      <th>cholesterol</th>\n",
       "      <th>gluc</th>\n",
       "      <th>smoke</th>\n",
       "      <th>alco</th>\n",
       "      <th>active</th>\n",
       "      <th>cardio</th>\n",
       "    </tr>\n",
       "  </thead>\n",
       "  <tbody>\n",
       "    <tr>\n",
       "      <th>0</th>\n",
       "      <td>0</td>\n",
       "      <td>18393</td>\n",
       "      <td>2</td>\n",
       "      <td>168</td>\n",
       "      <td>62.0</td>\n",
       "      <td>110</td>\n",
       "      <td>80</td>\n",
       "      <td>1</td>\n",
       "      <td>1</td>\n",
       "      <td>0</td>\n",
       "      <td>0</td>\n",
       "      <td>1</td>\n",
       "      <td>0</td>\n",
       "    </tr>\n",
       "    <tr>\n",
       "      <th>1</th>\n",
       "      <td>1</td>\n",
       "      <td>20228</td>\n",
       "      <td>1</td>\n",
       "      <td>156</td>\n",
       "      <td>85.0</td>\n",
       "      <td>140</td>\n",
       "      <td>90</td>\n",
       "      <td>3</td>\n",
       "      <td>1</td>\n",
       "      <td>0</td>\n",
       "      <td>0</td>\n",
       "      <td>1</td>\n",
       "      <td>1</td>\n",
       "    </tr>\n",
       "    <tr>\n",
       "      <th>2</th>\n",
       "      <td>2</td>\n",
       "      <td>18857</td>\n",
       "      <td>1</td>\n",
       "      <td>165</td>\n",
       "      <td>64.0</td>\n",
       "      <td>130</td>\n",
       "      <td>70</td>\n",
       "      <td>3</td>\n",
       "      <td>1</td>\n",
       "      <td>0</td>\n",
       "      <td>0</td>\n",
       "      <td>0</td>\n",
       "      <td>1</td>\n",
       "    </tr>\n",
       "    <tr>\n",
       "      <th>3</th>\n",
       "      <td>3</td>\n",
       "      <td>17623</td>\n",
       "      <td>2</td>\n",
       "      <td>169</td>\n",
       "      <td>82.0</td>\n",
       "      <td>150</td>\n",
       "      <td>100</td>\n",
       "      <td>1</td>\n",
       "      <td>1</td>\n",
       "      <td>0</td>\n",
       "      <td>0</td>\n",
       "      <td>1</td>\n",
       "      <td>1</td>\n",
       "    </tr>\n",
       "    <tr>\n",
       "      <th>4</th>\n",
       "      <td>4</td>\n",
       "      <td>17474</td>\n",
       "      <td>1</td>\n",
       "      <td>156</td>\n",
       "      <td>56.0</td>\n",
       "      <td>100</td>\n",
       "      <td>60</td>\n",
       "      <td>1</td>\n",
       "      <td>1</td>\n",
       "      <td>0</td>\n",
       "      <td>0</td>\n",
       "      <td>0</td>\n",
       "      <td>0</td>\n",
       "    </tr>\n",
       "  </tbody>\n",
       "</table>\n",
       "</div>"
      ],
      "text/plain": [
       "   id    age  gender  height  weight  ap_hi  ap_lo  cholesterol  gluc  smoke  \\\n",
       "0   0  18393       2     168    62.0    110     80            1     1      0   \n",
       "1   1  20228       1     156    85.0    140     90            3     1      0   \n",
       "2   2  18857       1     165    64.0    130     70            3     1      0   \n",
       "3   3  17623       2     169    82.0    150    100            1     1      0   \n",
       "4   4  17474       1     156    56.0    100     60            1     1      0   \n",
       "\n",
       "   alco  active  cardio  \n",
       "0     0       1       0  \n",
       "1     0       1       1  \n",
       "2     0       0       1  \n",
       "3     0       1       1  \n",
       "4     0       0       0  "
      ]
     },
     "execution_count": 4,
     "metadata": {},
     "output_type": "execute_result"
    }
   ],
   "source": [
    "df = pd.read_csv(\"/kaggle/input/cardiovascular-disease-dataset/cardio_train.csv\",sep=\";\")\n",
    "df.head()"
   ]
  },
  {
   "cell_type": "markdown",
   "id": "bb259462",
   "metadata": {
    "papermill": {
     "duration": 0.010649,
     "end_time": "2022-07-04T13:18:46.592792",
     "exception": false,
     "start_time": "2022-07-04T13:18:46.582143",
     "status": "completed"
    },
    "tags": []
   },
   "source": [
    "## So, this Dataset contains the following Features :\n",
    "\n",
    "* id => It's just the Id no of the row. Not revelant\n",
    "* age => It's the age of a person in Days\n",
    "* gender => It's the gender of the person\n",
    "* height => It's the height of the person in cm\n",
    "* weight => It's the weight of the person in kg\n",
    "* ap_hi => It's the Systolic blood pressure i.e. Pressure exerted when Blood is ejected in arteries. Normal value : 120mmhg or Below\n",
    "* ap_low => It's the Diastolic blood pressure i.e. Pressure exerted when Blood exerts between arteries and heartbeats. Normal Value : 80mmhg or Below\n",
    "* cholesterol :> It's the Cholestreol value (Cholesterol is a type of fat found in your blood) of your blood. In Adults, 200 mg/dL is desired with 200 and 239 mg/dL as Boderline High. In Children, 170 mg/dL is desired with 170 and 199 mg/dL as Boderline High\n",
    "* gluc => It's the Glucose Level. They're less than 100 mg/dL after not eating (fasting) for at least 8 hours. And they're less than 140 mg/dL 2 hours after eating. For most people without diabetes, blood sugar levels before meals hover around 70 to 80 mg/dL\n",
    "* smoke => It contain Binary Values stating whether Person is a Smoker or not i.e. {0 : 'Not a Smoker', 1 : 'Smoker'}\n",
    "* alco => It contain Binary Values stating whether Person is an alchoalic or not i.e. {0 : 'Not a Alcholic', 1 : 'Alcholic'}\n",
    "* active => It contain Binary Values stating whether Person is involved in physical activites or not i.e. {0 : 'Not involved in Physical Activites', 1 : 'involved in physical activites'}\n",
    "* cardio => It's our Target Value Binary Values stating whether Person has Cardiovascular diseases (CVDs) or Not i.e. {0 : 'Not Have CVD', 1 : 'Have CVD'}\n",
    "\n",
    "\n",
    "![](https://www.bhf.org.uk/-/media/news-images/2020/october/heart-disease-patient-640x410px.jpg?w=100%25&rev=032af6ee7d5e40388f0d1a2df70e2f3b&hash=559CD8087FF1CF53D2F13EA7BEC7656B)"
   ]
  },
  {
   "cell_type": "code",
   "execution_count": 5,
   "id": "f03468f5",
   "metadata": {
    "execution": {
     "iopub.execute_input": "2022-07-04T13:18:46.615015Z",
     "iopub.status.busy": "2022-07-04T13:18:46.614593Z",
     "iopub.status.idle": "2022-07-04T13:18:46.651258Z",
     "shell.execute_reply": "2022-07-04T13:18:46.649904Z"
    },
    "papermill": {
     "duration": 0.050343,
     "end_time": "2022-07-04T13:18:46.653385",
     "exception": false,
     "start_time": "2022-07-04T13:18:46.603042",
     "status": "completed"
    },
    "tags": []
   },
   "outputs": [
    {
     "name": "stdout",
     "output_type": "stream",
     "text": [
      "Dataset contains no Duplicate Values\n"
     ]
    }
   ],
   "source": [
    "duplicate_sum = df.duplicated().sum()\n",
    "if duplicate_sum:\n",
    "    print('Duplicates Rows in Dataset are : {}'.format(duplicate_sum))\n",
    "else:\n",
    "    print('Dataset contains no Duplicate Values')"
   ]
  },
  {
   "cell_type": "code",
   "execution_count": 6,
   "id": "196db2bd",
   "metadata": {
    "execution": {
     "iopub.execute_input": "2022-07-04T13:18:46.676113Z",
     "iopub.status.busy": "2022-07-04T13:18:46.675371Z",
     "iopub.status.idle": "2022-07-04T13:18:46.695241Z",
     "shell.execute_reply": "2022-07-04T13:18:46.694042Z"
    },
    "papermill": {
     "duration": 0.033902,
     "end_time": "2022-07-04T13:18:46.697613",
     "exception": false,
     "start_time": "2022-07-04T13:18:46.663711",
     "status": "completed"
    },
    "tags": []
   },
   "outputs": [
    {
     "name": "stdout",
     "output_type": "stream",
     "text": [
      "For the feature height, No of Outliers is 519\n",
      "For the feature weight, No of Outliers is 1819\n"
     ]
    }
   ],
   "source": [
    "# Seeking to outlier then destroy it!!!\n",
    "def outliers(df_out, drop = False):\n",
    "    for each_feature in df_out.columns:\n",
    "        feature_data = df_out[each_feature]\n",
    "        Q1 = np.percentile(feature_data, 25.) # 25th percentile of the data of the given feature\n",
    "        Q3 = np.percentile(feature_data, 75.) # 75th percentile of the data of the given feature\n",
    "        IQR = Q3-Q1 #Interquartile Range\n",
    "        outlier_step = IQR * 1.5 #That's we were talking about above\n",
    "        outliers = feature_data[~((feature_data >= Q1 - outlier_step) & (feature_data <= Q3 + outlier_step))].index.tolist()  \n",
    "        print('For the feature {}, No of Outliers is {}'.format(each_feature, len(outliers)))\n",
    "\n",
    "outliers(df[['height', 'weight']])\n"
   ]
  },
  {
   "cell_type": "code",
   "execution_count": 7,
   "id": "5d2d274f",
   "metadata": {
    "execution": {
     "iopub.execute_input": "2022-07-04T13:18:46.720282Z",
     "iopub.status.busy": "2022-07-04T13:18:46.719407Z",
     "iopub.status.idle": "2022-07-04T13:18:46.769250Z",
     "shell.execute_reply": "2022-07-04T13:18:46.768449Z"
    },
    "papermill": {
     "duration": 0.062946,
     "end_time": "2022-07-04T13:18:46.770993",
     "exception": false,
     "start_time": "2022-07-04T13:18:46.708047",
     "status": "completed"
    },
    "tags": []
   },
   "outputs": [
    {
     "name": "stdout",
     "output_type": "stream",
     "text": [
      "For the feature height, No of Outliers is 484\n",
      "For the feature weight, No of Outliers is 1174\n",
      "For the feature height, No of Outliers is 0\n",
      "For the feature weight, No of Outliers is 349\n"
     ]
    },
    {
     "data": {
      "text/plain": [
       "(68370, 13)"
      ]
     },
     "execution_count": 7,
     "metadata": {},
     "output_type": "execute_result"
    }
   ],
   "source": [
    "df[['height', 'weight']] = np.log(df[['height', 'weight']])\n",
    "outliers(df[['height', 'weight']])\n",
    "df = df[(df['weight'] > df['weight'].quantile(0.005)) & (df['weight'] < df['weight'].quantile(0.995))]\n",
    "df = df[(df['height'] > df['height'].quantile(0.005)) & (df['height'] < df['height'].quantile(0.995))]\n",
    "outliers(df[['height', 'weight']])\n",
    "df[\"height\"] = np.expm1(df[\"height\"])\n",
    "df[\"weight\"] = np.expm1(df[\"weight\"])\n",
    "df.shape"
   ]
  },
  {
   "cell_type": "code",
   "execution_count": 8,
   "id": "2ad5383e",
   "metadata": {
    "execution": {
     "iopub.execute_input": "2022-07-04T13:18:46.793858Z",
     "iopub.status.busy": "2022-07-04T13:18:46.793272Z",
     "iopub.status.idle": "2022-07-04T13:18:46.810205Z",
     "shell.execute_reply": "2022-07-04T13:18:46.808927Z"
    },
    "papermill": {
     "duration": 0.030891,
     "end_time": "2022-07-04T13:18:46.812292",
     "exception": false,
     "start_time": "2022-07-04T13:18:46.781401",
     "status": "completed"
    },
    "tags": []
   },
   "outputs": [
    {
     "name": "stdout",
     "output_type": "stream",
     "text": [
      "(68370, 14)\n"
     ]
    },
    {
     "data": {
      "text/html": [
       "<div>\n",
       "<style scoped>\n",
       "    .dataframe tbody tr th:only-of-type {\n",
       "        vertical-align: middle;\n",
       "    }\n",
       "\n",
       "    .dataframe tbody tr th {\n",
       "        vertical-align: top;\n",
       "    }\n",
       "\n",
       "    .dataframe thead th {\n",
       "        text-align: right;\n",
       "    }\n",
       "</style>\n",
       "<table border=\"1\" class=\"dataframe\">\n",
       "  <thead>\n",
       "    <tr style=\"text-align: right;\">\n",
       "      <th></th>\n",
       "      <th>id</th>\n",
       "      <th>age</th>\n",
       "      <th>gender</th>\n",
       "      <th>height</th>\n",
       "      <th>weight</th>\n",
       "      <th>ap_hi</th>\n",
       "      <th>ap_lo</th>\n",
       "      <th>cholesterol</th>\n",
       "      <th>gluc</th>\n",
       "      <th>smoke</th>\n",
       "      <th>alco</th>\n",
       "      <th>active</th>\n",
       "      <th>cardio</th>\n",
       "      <th>bmi</th>\n",
       "    </tr>\n",
       "  </thead>\n",
       "  <tbody>\n",
       "    <tr>\n",
       "      <th>0</th>\n",
       "      <td>0</td>\n",
       "      <td>18393</td>\n",
       "      <td>2</td>\n",
       "      <td>167.0</td>\n",
       "      <td>61.0</td>\n",
       "      <td>110</td>\n",
       "      <td>80</td>\n",
       "      <td>1</td>\n",
       "      <td>1</td>\n",
       "      <td>0</td>\n",
       "      <td>0</td>\n",
       "      <td>1</td>\n",
       "      <td>0</td>\n",
       "      <td>21.87</td>\n",
       "    </tr>\n",
       "    <tr>\n",
       "      <th>1</th>\n",
       "      <td>1</td>\n",
       "      <td>20228</td>\n",
       "      <td>1</td>\n",
       "      <td>155.0</td>\n",
       "      <td>84.0</td>\n",
       "      <td>140</td>\n",
       "      <td>90</td>\n",
       "      <td>3</td>\n",
       "      <td>1</td>\n",
       "      <td>0</td>\n",
       "      <td>0</td>\n",
       "      <td>1</td>\n",
       "      <td>1</td>\n",
       "      <td>34.96</td>\n",
       "    </tr>\n",
       "    <tr>\n",
       "      <th>2</th>\n",
       "      <td>2</td>\n",
       "      <td>18857</td>\n",
       "      <td>1</td>\n",
       "      <td>164.0</td>\n",
       "      <td>63.0</td>\n",
       "      <td>130</td>\n",
       "      <td>70</td>\n",
       "      <td>3</td>\n",
       "      <td>1</td>\n",
       "      <td>0</td>\n",
       "      <td>0</td>\n",
       "      <td>0</td>\n",
       "      <td>1</td>\n",
       "      <td>23.42</td>\n",
       "    </tr>\n",
       "  </tbody>\n",
       "</table>\n",
       "</div>"
      ],
      "text/plain": [
       "   id    age  gender  height  weight  ap_hi  ap_lo  cholesterol  gluc  smoke  \\\n",
       "0   0  18393       2   167.0    61.0    110     80            1     1      0   \n",
       "1   1  20228       1   155.0    84.0    140     90            3     1      0   \n",
       "2   2  18857       1   164.0    63.0    130     70            3     1      0   \n",
       "\n",
       "   alco  active  cardio    bmi  \n",
       "0     0       1       0  21.87  \n",
       "1     0       1       1  34.96  \n",
       "2     0       0       1  23.42  "
      ]
     },
     "execution_count": 8,
     "metadata": {},
     "output_type": "execute_result"
    }
   ],
   "source": [
    "# BMI formulation\n",
    "df[\"bmi\"] = np.round(df.weight/(df.height/100)**2,2)\n",
    "print(df.shape)\n",
    "df.head(3)"
   ]
  },
  {
   "cell_type": "markdown",
   "id": "654aa10d",
   "metadata": {
    "papermill": {
     "duration": 0.010653,
     "end_time": "2022-07-04T13:18:46.833846",
     "exception": false,
     "start_time": "2022-07-04T13:18:46.823193",
     "status": "completed"
    },
    "tags": []
   },
   "source": [
    "If your BMI is:\n",
    "\n",
    "* below 18.5 – you're in the underweight range\n",
    "* between 18.5 and 24.9 – you're in the healthy weight range\n",
    "* between 25 and 29.9 – you're in the overweight range\n",
    "* between 30 and 39.9 – you're in the obese range\n",
    "\n",
    "[Reference:](https://www.nhs.uk/common-health-questions/lifestyle/what-is-the-body-mass-index-bmi/)"
   ]
  },
  {
   "cell_type": "code",
   "execution_count": 9,
   "id": "a4a53940",
   "metadata": {
    "execution": {
     "iopub.execute_input": "2022-07-04T13:18:46.857095Z",
     "iopub.status.busy": "2022-07-04T13:18:46.856701Z",
     "iopub.status.idle": "2022-07-04T13:18:46.870501Z",
     "shell.execute_reply": "2022-07-04T13:18:46.869424Z"
    },
    "papermill": {
     "duration": 0.027822,
     "end_time": "2022-07-04T13:18:46.872557",
     "exception": false,
     "start_time": "2022-07-04T13:18:46.844735",
     "status": "completed"
    },
    "tags": []
   },
   "outputs": [],
   "source": [
    "df.loc[(df.bmi <= 18.4), 'bmicat'] = 1\n",
    "df.loc[(df.bmi > 18.4) & (df.bmi < 25), 'bmicat'] = 2\n",
    "df.loc[(df.bmi >= 25) & (df.bmi < 30), 'bmicat'] = 3\n",
    "df.loc[(df.bmi >= 30) & (df.bmi < 40), 'bmicat'] = 4\n",
    "df.loc[(df.bmi >= 40), 'bmicat'] = 5"
   ]
  },
  {
   "cell_type": "code",
   "execution_count": 10,
   "id": "a368d0ff",
   "metadata": {
    "execution": {
     "iopub.execute_input": "2022-07-04T13:18:46.897028Z",
     "iopub.status.busy": "2022-07-04T13:18:46.895652Z",
     "iopub.status.idle": "2022-07-04T13:18:47.552220Z",
     "shell.execute_reply": "2022-07-04T13:18:47.551243Z"
    },
    "papermill": {
     "duration": 0.671149,
     "end_time": "2022-07-04T13:18:47.554598",
     "exception": false,
     "start_time": "2022-07-04T13:18:46.883449",
     "status": "completed"
    },
    "tags": []
   },
   "outputs": [
    {
     "data": {
      "image/png": "[encoded data removed]",
      "text/plain": [
       "<Figure size 432x288 with 1 Axes>"
      ]
     },
     "metadata": {
      "needs_background": "light"
     },
     "output_type": "display_data"
    }
   ],
   "source": [
    "sns.histplot(data=df,x=\"bmicat\",hue=\"cardio\",kde=True,bins=10)\n",
    "plt.show()\n",
    "\n",
    "# When the BMI category increases, you can see from the histplot that the risk of cardiovascular disease also increases within the category."
   ]
  },
  {
   "cell_type": "code",
   "execution_count": 11,
   "id": "971e0593",
   "metadata": {
    "execution": {
     "iopub.execute_input": "2022-07-04T13:18:47.579577Z",
     "iopub.status.busy": "2022-07-04T13:18:47.578847Z",
     "iopub.status.idle": "2022-07-04T13:18:48.528984Z",
     "shell.execute_reply": "2022-07-04T13:18:48.527654Z"
    },
    "papermill": {
     "duration": 0.965439,
     "end_time": "2022-07-04T13:18:48.531581",
     "exception": false,
     "start_time": "2022-07-04T13:18:47.566142",
     "status": "completed"
    },
    "tags": []
   },
   "outputs": [
    {
     "data": {
      "image/png": "[encoded data removed]",
      "text/plain": [
       "<Figure size 432x288 with 1 Axes>"
      ]
     },
     "metadata": {
      "needs_background": "light"
     },
     "output_type": "display_data"
    }
   ],
   "source": [
    "# I handle to age now\n",
    "sns.histplot(data=df,x=\"age\",hue=\"cardio\",bins=100,kde=True)\n",
    "plt.show()\n",
    "# We can say with histplot; Cardiovascular diseases increases with age"
   ]
  },
  {
   "cell_type": "code",
   "execution_count": 12,
   "id": "b37bf393",
   "metadata": {
    "execution": {
     "iopub.execute_input": "2022-07-04T13:18:48.557735Z",
     "iopub.status.busy": "2022-07-04T13:18:48.557355Z",
     "iopub.status.idle": "2022-07-04T13:18:48.578409Z",
     "shell.execute_reply": "2022-07-04T13:18:48.577467Z"
    },
    "papermill": {
     "duration": 0.036702,
     "end_time": "2022-07-04T13:18:48.580704",
     "exception": false,
     "start_time": "2022-07-04T13:18:48.544002",
     "status": "completed"
    },
    "tags": []
   },
   "outputs": [],
   "source": [
    "# Finding the categorical years\n",
    "\n",
    "df[\"year\"] = np.round(df.age/365,2)\n",
    "df.loc[(df.year <= 40), 'agecat'] = 1\n",
    "df.loc[(df.year > 40)&(df.year<=45), 'agecat'] = 2\n",
    "df.loc[(df.year > 40)&(df.year<=45), 'agecat'] = 3\n",
    "df.loc[(df.year > 45)&(df.year<=50), 'agecat'] = 4\n",
    "df.loc[(df.year > 50)&(df.year<=55), 'agecat'] = 5\n",
    "df.loc[(df.year > 55)&(df.year<=60), 'agecat'] = 6\n",
    "df.loc[(df.year > 60)&(df.year<=65), 'agecat'] = 7\n",
    "df.loc[(df.year > 65)&(df.year<=70), 'agecat'] = 8\n",
    "df.loc[(df.year >= 70), 'agecat'] = 9"
   ]
  },
  {
   "cell_type": "code",
   "execution_count": 13,
   "id": "21c48e79",
   "metadata": {
    "execution": {
     "iopub.execute_input": "2022-07-04T13:18:48.606722Z",
     "iopub.status.busy": "2022-07-04T13:18:48.606352Z",
     "iopub.status.idle": "2022-07-04T13:18:49.219352Z",
     "shell.execute_reply": "2022-07-04T13:18:49.218236Z"
    },
    "papermill": {
     "duration": 0.629311,
     "end_time": "2022-07-04T13:18:49.221988",
     "exception": false,
     "start_time": "2022-07-04T13:18:48.592677",
     "status": "completed"
    },
    "tags": []
   },
   "outputs": [
    {
     "data": {
      "image/png": "[encoded data removed]",
      "text/plain": [
       "<Figure size 432x288 with 1 Axes>"
      ]
     },
     "metadata": {
      "needs_background": "light"
     },
     "output_type": "display_data"
    }
   ],
   "source": [
    "sns.histplot(data=df,x=\"agecat\",hue=\"cardio\",bins=10,kde=True)\n",
    "plt.show()"
   ]
  },
  {
   "cell_type": "code",
   "execution_count": 14,
   "id": "c3101823",
   "metadata": {
    "execution": {
     "iopub.execute_input": "2022-07-04T13:18:49.248472Z",
     "iopub.status.busy": "2022-07-04T13:18:49.248088Z",
     "iopub.status.idle": "2022-07-04T13:18:49.252936Z",
     "shell.execute_reply": "2022-07-04T13:18:49.251834Z"
    },
    "papermill": {
     "duration": 0.020423,
     "end_time": "2022-07-04T13:18:49.254954",
     "exception": false,
     "start_time": "2022-07-04T13:18:49.234531",
     "status": "completed"
    },
    "tags": []
   },
   "outputs": [],
   "source": [
    "# I choose the AHA 2020 hypertension guideline for the categories"
   ]
  },
  {
   "cell_type": "code",
   "execution_count": 15,
   "id": "94cba9ed",
   "metadata": {
    "execution": {
     "iopub.execute_input": "2022-07-04T13:18:49.281413Z",
     "iopub.status.busy": "2022-07-04T13:18:49.280673Z",
     "iopub.status.idle": "2022-07-04T13:18:49.564780Z",
     "shell.execute_reply": "2022-07-04T13:18:49.563713Z"
    },
    "papermill": {
     "duration": 0.299872,
     "end_time": "2022-07-04T13:18:49.566998",
     "exception": false,
     "start_time": "2022-07-04T13:18:49.267126",
     "status": "completed"
    },
    "tags": []
   },
   "outputs": [
    {
     "data": {
      "image/png": "[encoded data removed]",
      "text/plain": [
       "<Figure size 1080x360 with 2 Axes>"
      ]
     },
     "metadata": {
      "needs_background": "light"
     },
     "output_type": "display_data"
    }
   ],
   "source": [
    "# We already know men have more uses smoke and alcohol rather than women\n",
    "fig, axes = plt.subplots(1, 2, figsize=(15, 5), sharey=True)\n",
    "fig.suptitle('Smoke and Alcohol using by gender')\n",
    "\n",
    "# Bulbasaur\n",
    "sns.countplot(ax=axes[0], x=df.smoke,hue=df.gender)\n",
    "axes[0].set_title(\"Smoke use for gender\")\n",
    "\n",
    "# Charmander\n",
    "sns.countplot(ax=axes[1], x=df.alco,hue=df.gender)\n",
    "axes[1].set_title(\"Alcohol use for gender\")\n",
    "plt.show()\n",
    "# Gender: 2 is must be men"
   ]
  },
  {
   "cell_type": "code",
   "execution_count": 16,
   "id": "290e6bd2",
   "metadata": {
    "execution": {
     "iopub.execute_input": "2022-07-04T13:18:49.594091Z",
     "iopub.status.busy": "2022-07-04T13:18:49.593719Z",
     "iopub.status.idle": "2022-07-04T13:18:49.620574Z",
     "shell.execute_reply": "2022-07-04T13:18:49.619611Z"
    },
    "papermill": {
     "duration": 0.043136,
     "end_time": "2022-07-04T13:18:49.622810",
     "exception": false,
     "start_time": "2022-07-04T13:18:49.579674",
     "status": "completed"
    },
    "tags": []
   },
   "outputs": [
    {
     "data": {
      "text/html": [
       "<div>\n",
       "<style scoped>\n",
       "    .dataframe tbody tr th:only-of-type {\n",
       "        vertical-align: middle;\n",
       "    }\n",
       "\n",
       "    .dataframe tbody tr th {\n",
       "        vertical-align: top;\n",
       "    }\n",
       "\n",
       "    .dataframe thead th {\n",
       "        text-align: right;\n",
       "    }\n",
       "</style>\n",
       "<table border=\"1\" class=\"dataframe\">\n",
       "  <thead>\n",
       "    <tr style=\"text-align: right;\">\n",
       "      <th></th>\n",
       "      <th>id</th>\n",
       "      <th>age</th>\n",
       "      <th>gender</th>\n",
       "      <th>height</th>\n",
       "      <th>weight</th>\n",
       "      <th>ap_hi</th>\n",
       "      <th>ap_lo</th>\n",
       "      <th>cholesterol</th>\n",
       "      <th>gluc</th>\n",
       "      <th>smoke</th>\n",
       "      <th>alco</th>\n",
       "      <th>active</th>\n",
       "      <th>cardio</th>\n",
       "      <th>bmi</th>\n",
       "      <th>bmicat</th>\n",
       "      <th>year</th>\n",
       "      <th>agecat</th>\n",
       "    </tr>\n",
       "  </thead>\n",
       "  <tbody>\n",
       "    <tr>\n",
       "      <th>0</th>\n",
       "      <td>0</td>\n",
       "      <td>18393</td>\n",
       "      <td>male</td>\n",
       "      <td>167.0</td>\n",
       "      <td>61.0</td>\n",
       "      <td>110</td>\n",
       "      <td>80</td>\n",
       "      <td>1</td>\n",
       "      <td>1</td>\n",
       "      <td>0</td>\n",
       "      <td>0</td>\n",
       "      <td>1</td>\n",
       "      <td>0</td>\n",
       "      <td>21.87</td>\n",
       "      <td>2.0</td>\n",
       "      <td>50.39</td>\n",
       "      <td>5.0</td>\n",
       "    </tr>\n",
       "    <tr>\n",
       "      <th>1</th>\n",
       "      <td>1</td>\n",
       "      <td>20228</td>\n",
       "      <td>female</td>\n",
       "      <td>155.0</td>\n",
       "      <td>84.0</td>\n",
       "      <td>140</td>\n",
       "      <td>90</td>\n",
       "      <td>3</td>\n",
       "      <td>1</td>\n",
       "      <td>0</td>\n",
       "      <td>0</td>\n",
       "      <td>1</td>\n",
       "      <td>1</td>\n",
       "      <td>34.96</td>\n",
       "      <td>4.0</td>\n",
       "      <td>55.42</td>\n",
       "      <td>6.0</td>\n",
       "    </tr>\n",
       "    <tr>\n",
       "      <th>2</th>\n",
       "      <td>2</td>\n",
       "      <td>18857</td>\n",
       "      <td>female</td>\n",
       "      <td>164.0</td>\n",
       "      <td>63.0</td>\n",
       "      <td>130</td>\n",
       "      <td>70</td>\n",
       "      <td>3</td>\n",
       "      <td>1</td>\n",
       "      <td>0</td>\n",
       "      <td>0</td>\n",
       "      <td>0</td>\n",
       "      <td>1</td>\n",
       "      <td>23.42</td>\n",
       "      <td>2.0</td>\n",
       "      <td>51.66</td>\n",
       "      <td>5.0</td>\n",
       "    </tr>\n",
       "  </tbody>\n",
       "</table>\n",
       "</div>"
      ],
      "text/plain": [
       "   id    age  gender  height  weight  ap_hi  ap_lo  cholesterol  gluc  smoke  \\\n",
       "0   0  18393    male   167.0    61.0    110     80            1     1      0   \n",
       "1   1  20228  female   155.0    84.0    140     90            3     1      0   \n",
       "2   2  18857  female   164.0    63.0    130     70            3     1      0   \n",
       "\n",
       "   alco  active  cardio    bmi  bmicat   year  agecat  \n",
       "0     0       1       0  21.87     2.0  50.39     5.0  \n",
       "1     0       1       1  34.96     4.0  55.42     6.0  \n",
       "2     0       0       1  23.42     2.0  51.66     5.0  "
      ]
     },
     "execution_count": 16,
     "metadata": {},
     "output_type": "execute_result"
    }
   ],
   "source": [
    "df.gender.replace(1,\"female\",inplace=True)\n",
    "df.gender.replace(2,\"male\",inplace=True)\n",
    "df.head(3)"
   ]
  },
  {
   "cell_type": "code",
   "execution_count": 17,
   "id": "3955a02a",
   "metadata": {
    "execution": {
     "iopub.execute_input": "2022-07-04T13:18:49.651239Z",
     "iopub.status.busy": "2022-07-04T13:18:49.650490Z",
     "iopub.status.idle": "2022-07-04T13:18:49.682266Z",
     "shell.execute_reply": "2022-07-04T13:18:49.680984Z"
    },
    "papermill": {
     "duration": 0.048859,
     "end_time": "2022-07-04T13:18:49.684560",
     "exception": false,
     "start_time": "2022-07-04T13:18:49.635701",
     "status": "completed"
    },
    "tags": []
   },
   "outputs": [
    {
     "name": "stdout",
     "output_type": "stream",
     "text": [
      "(66826, 17)\n"
     ]
    }
   ],
   "source": [
    "# Some conditions are incompatible with normal life.\n",
    "\n",
    "out_filter = ((df[\"ap_hi\"]>180) | (df[\"ap_lo\"]>150))\n",
    "df = df[~out_filter]\n",
    "out_filter2 = ((df[\"ap_hi\"] < 60) | (df[\"ap_lo\"] < 30))\n",
    "df = df[~out_filter2]\n",
    "\n",
    "# Some cases diastolic pressure is higher than systolic, it is impossible with normal physiologic condition. \n",
    "df = df[~(df['ap_lo']> df['ap_hi'])]\n",
    "\n",
    "print(df.shape)"
   ]
  },
  {
   "cell_type": "code",
   "execution_count": 18,
   "id": "e39514fb",
   "metadata": {
    "execution": {
     "iopub.execute_input": "2022-07-04T13:18:49.712402Z",
     "iopub.status.busy": "2022-07-04T13:18:49.711722Z",
     "iopub.status.idle": "2022-07-04T13:18:50.292438Z",
     "shell.execute_reply": "2022-07-04T13:18:50.291306Z"
    },
    "papermill": {
     "duration": 0.598076,
     "end_time": "2022-07-04T13:18:50.295644",
     "exception": false,
     "start_time": "2022-07-04T13:18:49.697568",
     "status": "completed"
    },
    "tags": []
   },
   "outputs": [
    {
     "data": {
      "image/png": "[encoded data removed]",
      "text/plain": [
       "<Figure size 432x288 with 1 Axes>"
      ]
     },
     "metadata": {
      "needs_background": "light"
     },
     "output_type": "display_data"
    }
   ],
   "source": [
    "sns.histplot(data=df,x=\"ap_lo\",hue=\"cardio\",bins=100)\n",
    "plt.show()"
   ]
  },
  {
   "cell_type": "code",
   "execution_count": 19,
   "id": "940b40c9",
   "metadata": {
    "execution": {
     "iopub.execute_input": "2022-07-04T13:18:50.327087Z",
     "iopub.status.busy": "2022-07-04T13:18:50.326673Z",
     "iopub.status.idle": "2022-07-04T13:18:51.044928Z",
     "shell.execute_reply": "2022-07-04T13:18:51.043816Z"
    },
    "papermill": {
     "duration": 0.736286,
     "end_time": "2022-07-04T13:18:51.047104",
     "exception": false,
     "start_time": "2022-07-04T13:18:50.310818",
     "status": "completed"
    },
    "tags": []
   },
   "outputs": [
    {
     "data": {
      "image/png": "[encoded data removed]",
      "text/plain": [
       "<Figure size 432x288 with 1 Axes>"
      ]
     },
     "metadata": {
      "needs_background": "light"
     },
     "output_type": "display_data"
    }
   ],
   "source": [
    "sns.histplot(data=df,x=\"ap_hi\",hue=\"cardio\",bins=100)\n",
    "plt.show()\n"
   ]
  },
  {
   "cell_type": "markdown",
   "id": "6cb28e48",
   "metadata": {
    "papermill": {
     "duration": 0.013285,
     "end_time": "2022-07-04T13:18:51.073850",
     "exception": false,
     "start_time": "2022-07-04T13:18:51.060565",
     "status": "completed"
    },
    "tags": []
   },
   "source": [
    "## I use hypertension classification from AHA 2020 guideline\n",
    "\n",
    "![Class](https://www.ahajournals.org/cms/asset/aa0918b0-c2f8-4b8e-b973-863fe8f39437/hypertensionaha.120.15026.tab06.gif)"
   ]
  },
  {
   "cell_type": "code",
   "execution_count": 20,
   "id": "18685775",
   "metadata": {
    "execution": {
     "iopub.execute_input": "2022-07-04T13:18:51.103465Z",
     "iopub.status.busy": "2022-07-04T13:18:51.102694Z",
     "iopub.status.idle": "2022-07-04T13:18:59.830087Z",
     "shell.execute_reply": "2022-07-04T13:18:59.828751Z"
    },
    "papermill": {
     "duration": 8.745063,
     "end_time": "2022-07-04T13:18:59.832575",
     "exception": false,
     "start_time": "2022-07-04T13:18:51.087512",
     "status": "completed"
    },
    "tags": []
   },
   "outputs": [
    {
     "data": {
      "text/html": [
       "<div>\n",
       "<style scoped>\n",
       "    .dataframe tbody tr th:only-of-type {\n",
       "        vertical-align: middle;\n",
       "    }\n",
       "\n",
       "    .dataframe tbody tr th {\n",
       "        vertical-align: top;\n",
       "    }\n",
       "\n",
       "    .dataframe thead th {\n",
       "        text-align: right;\n",
       "    }\n",
       "</style>\n",
       "<table border=\"1\" class=\"dataframe\">\n",
       "  <thead>\n",
       "    <tr style=\"text-align: right;\">\n",
       "      <th></th>\n",
       "      <th>id</th>\n",
       "      <th>age</th>\n",
       "      <th>gender</th>\n",
       "      <th>height</th>\n",
       "      <th>weight</th>\n",
       "      <th>ap_hi</th>\n",
       "      <th>ap_lo</th>\n",
       "      <th>cholesterol</th>\n",
       "      <th>gluc</th>\n",
       "      <th>smoke</th>\n",
       "      <th>alco</th>\n",
       "      <th>active</th>\n",
       "      <th>cardio</th>\n",
       "      <th>bmi</th>\n",
       "      <th>bmicat</th>\n",
       "      <th>year</th>\n",
       "      <th>agecat</th>\n",
       "      <th>risk_number</th>\n",
       "      <th>hyper_tension_gr</th>\n",
       "    </tr>\n",
       "  </thead>\n",
       "  <tbody>\n",
       "    <tr>\n",
       "      <th>0</th>\n",
       "      <td>0</td>\n",
       "      <td>18393</td>\n",
       "      <td>male</td>\n",
       "      <td>167.0</td>\n",
       "      <td>61.0</td>\n",
       "      <td>110</td>\n",
       "      <td>80</td>\n",
       "      <td>1</td>\n",
       "      <td>1</td>\n",
       "      <td>0</td>\n",
       "      <td>0</td>\n",
       "      <td>1</td>\n",
       "      <td>0</td>\n",
       "      <td>21.87</td>\n",
       "      <td>2.0</td>\n",
       "      <td>50.39</td>\n",
       "      <td>5.0</td>\n",
       "      <td>0.0</td>\n",
       "      <td>1</td>\n",
       "    </tr>\n",
       "    <tr>\n",
       "      <th>1</th>\n",
       "      <td>1</td>\n",
       "      <td>20228</td>\n",
       "      <td>female</td>\n",
       "      <td>155.0</td>\n",
       "      <td>84.0</td>\n",
       "      <td>140</td>\n",
       "      <td>90</td>\n",
       "      <td>3</td>\n",
       "      <td>1</td>\n",
       "      <td>0</td>\n",
       "      <td>0</td>\n",
       "      <td>1</td>\n",
       "      <td>1</td>\n",
       "      <td>34.96</td>\n",
       "      <td>4.0</td>\n",
       "      <td>55.42</td>\n",
       "      <td>6.0</td>\n",
       "      <td>2.0</td>\n",
       "      <td>2</td>\n",
       "    </tr>\n",
       "    <tr>\n",
       "      <th>2</th>\n",
       "      <td>2</td>\n",
       "      <td>18857</td>\n",
       "      <td>female</td>\n",
       "      <td>164.0</td>\n",
       "      <td>63.0</td>\n",
       "      <td>130</td>\n",
       "      <td>70</td>\n",
       "      <td>3</td>\n",
       "      <td>1</td>\n",
       "      <td>0</td>\n",
       "      <td>0</td>\n",
       "      <td>0</td>\n",
       "      <td>1</td>\n",
       "      <td>23.42</td>\n",
       "      <td>2.0</td>\n",
       "      <td>51.66</td>\n",
       "      <td>5.0</td>\n",
       "      <td>2.0</td>\n",
       "      <td>1</td>\n",
       "    </tr>\n",
       "    <tr>\n",
       "      <th>3</th>\n",
       "      <td>3</td>\n",
       "      <td>17623</td>\n",
       "      <td>male</td>\n",
       "      <td>168.0</td>\n",
       "      <td>81.0</td>\n",
       "      <td>150</td>\n",
       "      <td>100</td>\n",
       "      <td>1</td>\n",
       "      <td>1</td>\n",
       "      <td>0</td>\n",
       "      <td>0</td>\n",
       "      <td>1</td>\n",
       "      <td>1</td>\n",
       "      <td>28.70</td>\n",
       "      <td>3.0</td>\n",
       "      <td>48.28</td>\n",
       "      <td>4.0</td>\n",
       "      <td>1.0</td>\n",
       "      <td>2</td>\n",
       "    </tr>\n",
       "    <tr>\n",
       "      <th>4</th>\n",
       "      <td>4</td>\n",
       "      <td>17474</td>\n",
       "      <td>female</td>\n",
       "      <td>155.0</td>\n",
       "      <td>55.0</td>\n",
       "      <td>100</td>\n",
       "      <td>60</td>\n",
       "      <td>1</td>\n",
       "      <td>1</td>\n",
       "      <td>0</td>\n",
       "      <td>0</td>\n",
       "      <td>0</td>\n",
       "      <td>0</td>\n",
       "      <td>22.89</td>\n",
       "      <td>2.0</td>\n",
       "      <td>47.87</td>\n",
       "      <td>4.0</td>\n",
       "      <td>1.0</td>\n",
       "      <td>1</td>\n",
       "    </tr>\n",
       "  </tbody>\n",
       "</table>\n",
       "</div>"
      ],
      "text/plain": [
       "   id    age  gender  height  weight  ap_hi  ap_lo  cholesterol  gluc  smoke  \\\n",
       "0   0  18393    male   167.0    61.0    110     80            1     1      0   \n",
       "1   1  20228  female   155.0    84.0    140     90            3     1      0   \n",
       "2   2  18857  female   164.0    63.0    130     70            3     1      0   \n",
       "3   3  17623    male   168.0    81.0    150    100            1     1      0   \n",
       "4   4  17474  female   155.0    55.0    100     60            1     1      0   \n",
       "\n",
       "   alco  active  cardio    bmi  bmicat   year  agecat  risk_number  \\\n",
       "0     0       1       0  21.87     2.0  50.39     5.0          0.0   \n",
       "1     0       1       1  34.96     4.0  55.42     6.0          2.0   \n",
       "2     0       0       1  23.42     2.0  51.66     5.0          2.0   \n",
       "3     0       1       1  28.70     3.0  48.28     4.0          1.0   \n",
       "4     0       0       0  22.89     2.0  47.87     4.0          1.0   \n",
       "\n",
       "   hyper_tension_gr  \n",
       "0                 1  \n",
       "1                 2  \n",
       "2                 1  \n",
       "3                 2  \n",
       "4                 1  "
      ]
     },
     "execution_count": 20,
     "metadata": {},
     "output_type": "execute_result"
    }
   ],
   "source": [
    "# Find the risk number\n",
    "risk_number = []\n",
    "for i in range(len(df)):\n",
    "    total = []\n",
    "    if df.agecat.iloc[i]>8:\n",
    "        total.append(1)\n",
    "    if df.gluc.iloc[i]>1:\n",
    "        total.append(1)\n",
    "    if df.cholesterol.iloc[i]>1:\n",
    "        total.append(1)\n",
    "    if df.bmicat.iloc[i]>=3:\n",
    "        total.append(1)\n",
    "    if df.active.iloc[i]==0:\n",
    "        total.append(1)\n",
    "    if df.alco.iloc[i] == 1:\n",
    "        total.append(1)\n",
    "    if df.smoke.iloc[i] == 1:\n",
    "        total.append(1)\n",
    "    risk_number.append(np.sum(total))\n",
    "\n",
    "df[\"risk_number\"] = risk_number\n",
    "\n",
    "hypertension_grade = []\n",
    "for i in range(len(df)):\n",
    "    if df.ap_hi.iloc[i]<140 and df.ap_lo.iloc[i]<90:\n",
    "        if df.risk_number.iloc[i] >=3:\n",
    "            hypertension_grade.append(3)\n",
    "        else:\n",
    "            hypertension_grade.append(1)\n",
    "    elif df.ap_hi.iloc[i]>=160 and df.ap_lo.iloc[i]>=100:\n",
    "        if df.risk_number.iloc[i]>0:\n",
    "            hypertension_grade.append(3)\n",
    "        else:\n",
    "            hypertension_grade.append(2)\n",
    "    else:\n",
    "        if df.risk_number.iloc[i] < 1:\n",
    "            hypertension_grade.append(1)\n",
    "        elif df.risk_number.iloc[i] >= 3:\n",
    "            hypertension_grade.append(3)\n",
    "        else:\n",
    "            hypertension_grade.append(2)\n",
    "\n",
    "\n",
    "df[\"hyper_tension_gr\"] = hypertension_grade\n",
    "\n",
    "df.head()"
   ]
  },
  {
   "attachments": {
    "aa737082-dfab-45a4-af66-d31145bc870d.png": {
     "image/png": "[encoded data removed]"
    },
    "ace4c4b7-b810-424c-b72a-7db25c092ff1.png": {
     "image/png": "[encoded data removed]"
    }
   },
   "cell_type": "markdown",
   "id": "e5a7a6f3",
   "metadata": {
    "papermill": {
     "duration": 0.013334,
     "end_time": "2022-07-04T13:18:59.859742",
     "exception": false,
     "start_time": "2022-07-04T13:18:59.846408",
     "status": "completed"
    },
    "tags": []
   },
   "source": [
    "### [I create a function from uptodate](https://www.uptodate.com/contents/calculator-cardiovascular-risk-assessment-10-year-men-patient-education)\n",
    "* This formulation is undependent to race\n",
    "\n",
    "![General formula](![image.png](attachment:ace4c4b7-b810-424c-b72a-7db25c092ff1.png)![image.png](attachment:aa737082-dfab-45a4-af66-d31145bc870d.png))\n",
    "#### For male\n",
    "\n",
    "![male](https://www.ahajournals.org/cms/asset/531afbba-3e45-4d08-90e5-41f307a44fdf/14mm6.jpg)\n",
    "\n",
    "#### For female\n",
    "\n",
    "![female](https://www.ahajournals.org/cms/asset/f6fd98d3-4c43-4f6a-ba92-5a413f0d751a/14mm2.jpg)\n",
    "\n",
    "* [More detailed formulation in here:](https://www.ahajournals.org/doi/10.1161/CIRCULATIONAHA.107.699579?url_ver=Z39.88-2003&rfr_id=ori:rid:crossref.org&rfr_dat=cr_pub%20%200pubmed)"
   ]
  },
  {
   "cell_type": "code",
   "execution_count": 21,
   "id": "0cb74684",
   "metadata": {
    "execution": {
     "iopub.execute_input": "2022-07-04T13:18:59.889311Z",
     "iopub.status.busy": "2022-07-04T13:18:59.888812Z",
     "iopub.status.idle": "2022-07-04T13:19:06.990699Z",
     "shell.execute_reply": "2022-07-04T13:19:06.989607Z"
    },
    "jupyter": {
     "source_hidden": true
    },
    "papermill": {
     "duration": 7.11984,
     "end_time": "2022-07-04T13:19:06.993261",
     "exception": false,
     "start_time": "2022-07-04T13:18:59.873421",
     "status": "completed"
    },
    "tags": []
   },
   "outputs": [],
   "source": [
    "cvr=[]\n",
    "\n",
    "# This formulations's limitation is we dont know about real cholestrol levels\n",
    "\n",
    "for i in range(len(df)):\n",
    "    if df[\"gender\"].iloc[i] == \"female\":\n",
    "        a=df.year.iloc[i]\n",
    "        b=df.cholesterol.iloc[i]\n",
    "        c=df.ap_hi.iloc[i]\n",
    "        d=df.hyper_tension_gr.iloc[i] \n",
    "        e=df.smoke.iloc[i]\n",
    "        f=df.gluc.iloc[i]\n",
    "        if d >= 1:\n",
    "            On_blood_pressure_medication = 1\n",
    "        if d == 1:\n",
    "            On_blood_pressure_medication = 0\n",
    "        if b==1:\n",
    "            totalcol=200\n",
    "            hdl=40\n",
    "        if b==2:\n",
    "            totalcol=350\n",
    "            hdl=60\n",
    "        if b==3:\n",
    "            totalcol=400\n",
    "            hdl=80\n",
    "        if f>1:\n",
    "            f=1\n",
    "        if On_blood_pressure_medication == 0:\n",
    "            nontreated=1\n",
    "        if On_blood_pressure_medication == 1:\n",
    "            nontreated=0\n",
    "        Risk_Factors = np.exp((np.log(a) * 2.32888) + (np.log(totalcol * 1.20904) - np.log(hdl * 0.70833) + (np.log(c)* nontreated * 2.76157)+(2.82263*On_blood_pressure_medication*np.log(c))) + (e*0.52873) + (f*0.69154) - 26.1931)    \n",
    "        \n",
    "        risk = (100 * (1 -(0.95012**Risk_Factors)))\n",
    "        cvr.append(risk)\n",
    "    \n",
    "    \n",
    "    if df[\"gender\"].iloc[i] == \"male\":\n",
    "        a=df.year.iloc[i]\n",
    "        b=df.cholesterol.iloc[i]\n",
    "        c=df.ap_hi.iloc[i]\n",
    "        d=df.hyper_tension_gr.iloc[i] \n",
    "        e=df.smoke.iloc[i]\n",
    "        f=df.gluc.iloc[i]\n",
    "        if d >= 1:\n",
    "            On_blood_pressure_medication = 1\n",
    "        if d == 1:\n",
    "            On_blood_pressure_medication = 0\n",
    "        if b==1:\n",
    "            totalcol=200\n",
    "            hdl=40\n",
    "        if b==2:\n",
    "            totalcol=300\n",
    "            hdl=60\n",
    "        if b==3:\n",
    "            totalcol=400\n",
    "            hdl=80\n",
    "        if f>1:\n",
    "            f=1\n",
    "        if On_blood_pressure_medication == 0:\n",
    "            nontreated=1\n",
    "        if On_blood_pressure_medication == 1:\n",
    "            nontreated=0\n",
    "        Risk_Factors = np.exp((np.log(a) * 3.06117) + (np.log(totalcol) * 1.12370) - (np.log(hdl)* 0.93262) + ((np.log(c)* nontreated * 1.93303)+(1.99881*On_blood_pressure_medication*np.log(c))) + (e*0.65451) + (f*0.57367)-23.9802)\n",
    "        risk = (100 * (1 -(0.88936**Risk_Factors)))\n",
    "        cvr.append(risk)\n",
    "    #print(a,b,c,d,e,f,nontreated,On_blood_pressure_medication,totalcol,hdl)\n",
    "\n",
    "df[\"Risk_score\"]=cvr"
   ]
  },
  {
   "cell_type": "markdown",
   "id": "189f16c4",
   "metadata": {
    "papermill": {
     "duration": 0.013619,
     "end_time": "2022-07-04T13:19:07.020764",
     "exception": false,
     "start_time": "2022-07-04T13:19:07.007145",
     "status": "completed"
    },
    "tags": []
   },
   "source": [
    "### When I evaluated the risk estimation based on the Cox model, I did not use it because it does not work properly and does not create a high performance model.\n",
    "\n",
    "[Refence](https://www.ahajournals.org/doi/10.1161/CIRCULATIONAHA.107.699579?url_ver=Z39.88-2003&rfr_id=ori:rid:crossref.org&rfr_dat=cr_pub%20%200pubmed)\n",
    "\n",
    "### This prediction score wasn't help to discriminate variables."
   ]
  },
  {
   "cell_type": "code",
   "execution_count": 22,
   "id": "5c67024b",
   "metadata": {
    "execution": {
     "iopub.execute_input": "2022-07-04T13:19:07.049935Z",
     "iopub.status.busy": "2022-07-04T13:19:07.049517Z",
     "iopub.status.idle": "2022-07-04T13:19:07.698758Z",
     "shell.execute_reply": "2022-07-04T13:19:07.697965Z"
    },
    "papermill": {
     "duration": 0.666183,
     "end_time": "2022-07-04T13:19:07.700682",
     "exception": false,
     "start_time": "2022-07-04T13:19:07.034499",
     "status": "completed"
    },
    "tags": []
   },
   "outputs": [
    {
     "data": {
      "image/png": "[encoded data removed]",
      "text/plain": [
       "<Figure size 432x288 with 1 Axes>"
      ]
     },
     "metadata": {
      "needs_background": "light"
     },
     "output_type": "display_data"
    }
   ],
   "source": [
    "sns.histplot(data=df,x=df.Risk_score,hue=df.cardio)\n",
    "plt.show()"
   ]
  },
  {
   "cell_type": "code",
   "execution_count": 23,
   "id": "bd5b1cd4",
   "metadata": {
    "execution": {
     "iopub.execute_input": "2022-07-04T13:19:07.731244Z",
     "iopub.status.busy": "2022-07-04T13:19:07.730402Z",
     "iopub.status.idle": "2022-07-04T13:19:07.748784Z",
     "shell.execute_reply": "2022-07-04T13:19:07.747980Z"
    },
    "papermill": {
     "duration": 0.035876,
     "end_time": "2022-07-04T13:19:07.750720",
     "exception": false,
     "start_time": "2022-07-04T13:19:07.714844",
     "status": "completed"
    },
    "tags": []
   },
   "outputs": [
    {
     "data": {
      "text/html": [
       "<div>\n",
       "<style scoped>\n",
       "    .dataframe tbody tr th:only-of-type {\n",
       "        vertical-align: middle;\n",
       "    }\n",
       "\n",
       "    .dataframe tbody tr th {\n",
       "        vertical-align: top;\n",
       "    }\n",
       "\n",
       "    .dataframe thead th {\n",
       "        text-align: right;\n",
       "    }\n",
       "</style>\n",
       "<table border=\"1\" class=\"dataframe\">\n",
       "  <thead>\n",
       "    <tr style=\"text-align: right;\">\n",
       "      <th></th>\n",
       "      <th>id</th>\n",
       "      <th>age</th>\n",
       "      <th>gender</th>\n",
       "      <th>height</th>\n",
       "      <th>weight</th>\n",
       "      <th>ap_hi</th>\n",
       "      <th>ap_lo</th>\n",
       "      <th>cholesterol</th>\n",
       "      <th>gluc</th>\n",
       "      <th>smoke</th>\n",
       "      <th>alco</th>\n",
       "      <th>active</th>\n",
       "      <th>cardio</th>\n",
       "      <th>bmi</th>\n",
       "      <th>bmicat</th>\n",
       "      <th>year</th>\n",
       "      <th>agecat</th>\n",
       "      <th>risk_number</th>\n",
       "      <th>hyper_tension_gr</th>\n",
       "      <th>Risk_score</th>\n",
       "    </tr>\n",
       "  </thead>\n",
       "  <tbody>\n",
       "    <tr>\n",
       "      <th>0</th>\n",
       "      <td>0</td>\n",
       "      <td>18393</td>\n",
       "      <td>male</td>\n",
       "      <td>167.0</td>\n",
       "      <td>61.0</td>\n",
       "      <td>110</td>\n",
       "      <td>80</td>\n",
       "      <td>1</td>\n",
       "      <td>1</td>\n",
       "      <td>0</td>\n",
       "      <td>0</td>\n",
       "      <td>1</td>\n",
       "      <td>0</td>\n",
       "      <td>21.87</td>\n",
       "      <td>2.0</td>\n",
       "      <td>50.39</td>\n",
       "      <td>5.0</td>\n",
       "      <td>0.0</td>\n",
       "      <td>1</td>\n",
       "      <td>13.246457</td>\n",
       "    </tr>\n",
       "    <tr>\n",
       "      <th>1</th>\n",
       "      <td>1</td>\n",
       "      <td>20228</td>\n",
       "      <td>female</td>\n",
       "      <td>155.0</td>\n",
       "      <td>84.0</td>\n",
       "      <td>140</td>\n",
       "      <td>90</td>\n",
       "      <td>3</td>\n",
       "      <td>1</td>\n",
       "      <td>0</td>\n",
       "      <td>0</td>\n",
       "      <td>1</td>\n",
       "      <td>1</td>\n",
       "      <td>34.96</td>\n",
       "      <td>4.0</td>\n",
       "      <td>55.42</td>\n",
       "      <td>6.0</td>\n",
       "      <td>2.0</td>\n",
       "      <td>2</td>\n",
       "      <td>4.710407</td>\n",
       "    </tr>\n",
       "    <tr>\n",
       "      <th>2</th>\n",
       "      <td>2</td>\n",
       "      <td>18857</td>\n",
       "      <td>female</td>\n",
       "      <td>164.0</td>\n",
       "      <td>63.0</td>\n",
       "      <td>130</td>\n",
       "      <td>70</td>\n",
       "      <td>3</td>\n",
       "      <td>1</td>\n",
       "      <td>0</td>\n",
       "      <td>0</td>\n",
       "      <td>0</td>\n",
       "      <td>1</td>\n",
       "      <td>23.42</td>\n",
       "      <td>2.0</td>\n",
       "      <td>51.66</td>\n",
       "      <td>5.0</td>\n",
       "      <td>2.0</td>\n",
       "      <td>1</td>\n",
       "      <td>2.438717</td>\n",
       "    </tr>\n",
       "    <tr>\n",
       "      <th>3</th>\n",
       "      <td>3</td>\n",
       "      <td>17623</td>\n",
       "      <td>male</td>\n",
       "      <td>168.0</td>\n",
       "      <td>81.0</td>\n",
       "      <td>150</td>\n",
       "      <td>100</td>\n",
       "      <td>1</td>\n",
       "      <td>1</td>\n",
       "      <td>0</td>\n",
       "      <td>0</td>\n",
       "      <td>1</td>\n",
       "      <td>1</td>\n",
       "      <td>28.70</td>\n",
       "      <td>3.0</td>\n",
       "      <td>48.28</td>\n",
       "      <td>4.0</td>\n",
       "      <td>1.0</td>\n",
       "      <td>2</td>\n",
       "      <td>27.070496</td>\n",
       "    </tr>\n",
       "    <tr>\n",
       "      <th>4</th>\n",
       "      <td>4</td>\n",
       "      <td>17474</td>\n",
       "      <td>female</td>\n",
       "      <td>155.0</td>\n",
       "      <td>55.0</td>\n",
       "      <td>100</td>\n",
       "      <td>60</td>\n",
       "      <td>1</td>\n",
       "      <td>1</td>\n",
       "      <td>0</td>\n",
       "      <td>0</td>\n",
       "      <td>0</td>\n",
       "      <td>0</td>\n",
       "      <td>22.89</td>\n",
       "      <td>2.0</td>\n",
       "      <td>47.87</td>\n",
       "      <td>4.0</td>\n",
       "      <td>1.0</td>\n",
       "      <td>1</td>\n",
       "      <td>0.996806</td>\n",
       "    </tr>\n",
       "  </tbody>\n",
       "</table>\n",
       "</div>"
      ],
      "text/plain": [
       "   id    age  gender  height  weight  ap_hi  ap_lo  cholesterol  gluc  smoke  \\\n",
       "0   0  18393    male   167.0    61.0    110     80            1     1      0   \n",
       "1   1  20228  female   155.0    84.0    140     90            3     1      0   \n",
       "2   2  18857  female   164.0    63.0    130     70            3     1      0   \n",
       "3   3  17623    male   168.0    81.0    150    100            1     1      0   \n",
       "4   4  17474  female   155.0    55.0    100     60            1     1      0   \n",
       "\n",
       "   alco  active  cardio    bmi  bmicat   year  agecat  risk_number  \\\n",
       "0     0       1       0  21.87     2.0  50.39     5.0          0.0   \n",
       "1     0       1       1  34.96     4.0  55.42     6.0          2.0   \n",
       "2     0       0       1  23.42     2.0  51.66     5.0          2.0   \n",
       "3     0       1       1  28.70     3.0  48.28     4.0          1.0   \n",
       "4     0       0       0  22.89     2.0  47.87     4.0          1.0   \n",
       "\n",
       "   hyper_tension_gr  Risk_score  \n",
       "0                 1   13.246457  \n",
       "1                 2    4.710407  \n",
       "2                 1    2.438717  \n",
       "3                 2   27.070496  \n",
       "4                 1    0.996806  "
      ]
     },
     "execution_count": 23,
     "metadata": {},
     "output_type": "execute_result"
    }
   ],
   "source": [
    "df.head()"
   ]
  },
  {
   "cell_type": "code",
   "execution_count": 24,
   "id": "b9344ebe",
   "metadata": {
    "execution": {
     "iopub.execute_input": "2022-07-04T13:19:07.781540Z",
     "iopub.status.busy": "2022-07-04T13:19:07.780676Z",
     "iopub.status.idle": "2022-07-04T13:19:07.808286Z",
     "shell.execute_reply": "2022-07-04T13:19:07.807552Z"
    },
    "papermill": {
     "duration": 0.045027,
     "end_time": "2022-07-04T13:19:07.810202",
     "exception": false,
     "start_time": "2022-07-04T13:19:07.765175",
     "status": "completed"
    },
    "tags": []
   },
   "outputs": [
    {
     "data": {
      "text/html": [
       "<div>\n",
       "<style scoped>\n",
       "    .dataframe tbody tr th:only-of-type {\n",
       "        vertical-align: middle;\n",
       "    }\n",
       "\n",
       "    .dataframe tbody tr th {\n",
       "        vertical-align: top;\n",
       "    }\n",
       "\n",
       "    .dataframe thead th {\n",
       "        text-align: right;\n",
       "    }\n",
       "</style>\n",
       "<table border=\"1\" class=\"dataframe\">\n",
       "  <thead>\n",
       "    <tr style=\"text-align: right;\">\n",
       "      <th></th>\n",
       "      <th>gender</th>\n",
       "      <th>cholesterol</th>\n",
       "      <th>gluc</th>\n",
       "      <th>smoke</th>\n",
       "      <th>alco</th>\n",
       "      <th>active</th>\n",
       "      <th>cardio</th>\n",
       "      <th>bmicat</th>\n",
       "      <th>agecat</th>\n",
       "      <th>hyper_tension_gr</th>\n",
       "    </tr>\n",
       "  </thead>\n",
       "  <tbody>\n",
       "    <tr>\n",
       "      <th>0</th>\n",
       "      <td>male</td>\n",
       "      <td>1</td>\n",
       "      <td>1</td>\n",
       "      <td>0</td>\n",
       "      <td>0</td>\n",
       "      <td>1</td>\n",
       "      <td>0</td>\n",
       "      <td>2.0</td>\n",
       "      <td>5.0</td>\n",
       "      <td>1</td>\n",
       "    </tr>\n",
       "    <tr>\n",
       "      <th>1</th>\n",
       "      <td>female</td>\n",
       "      <td>3</td>\n",
       "      <td>1</td>\n",
       "      <td>0</td>\n",
       "      <td>0</td>\n",
       "      <td>1</td>\n",
       "      <td>1</td>\n",
       "      <td>4.0</td>\n",
       "      <td>6.0</td>\n",
       "      <td>2</td>\n",
       "    </tr>\n",
       "    <tr>\n",
       "      <th>2</th>\n",
       "      <td>female</td>\n",
       "      <td>3</td>\n",
       "      <td>1</td>\n",
       "      <td>0</td>\n",
       "      <td>0</td>\n",
       "      <td>0</td>\n",
       "      <td>1</td>\n",
       "      <td>2.0</td>\n",
       "      <td>5.0</td>\n",
       "      <td>1</td>\n",
       "    </tr>\n",
       "  </tbody>\n",
       "</table>\n",
       "</div>"
      ],
      "text/plain": [
       "   gender  cholesterol  gluc  smoke  alco  active  cardio  bmicat  agecat  \\\n",
       "0    male            1     1      0     0       1       0     2.0     5.0   \n",
       "1  female            3     1      0     0       1       1     4.0     6.0   \n",
       "2  female            3     1      0     0       0       1     2.0     5.0   \n",
       "\n",
       "   hyper_tension_gr  \n",
       "0                 1  \n",
       "1                 2  \n",
       "2                 1  "
      ]
     },
     "execution_count": 24,
     "metadata": {},
     "output_type": "execute_result"
    }
   ],
   "source": [
    "# Let's the drop dependent columns;\n",
    "df.drop(columns=[\"id\",\"age\",\"height\",\"weight\",\"ap_hi\",\"ap_lo\",\"bmi\",\"year\",\"Risk_score\",\"risk_number\"],inplace=True)\n",
    "df.head(3)"
   ]
  },
  {
   "cell_type": "code",
   "execution_count": 25,
   "id": "c5c8c7ad",
   "metadata": {
    "execution": {
     "iopub.execute_input": "2022-07-04T13:19:07.841428Z",
     "iopub.status.busy": "2022-07-04T13:19:07.840752Z",
     "iopub.status.idle": "2022-07-04T13:19:07.997784Z",
     "shell.execute_reply": "2022-07-04T13:19:07.996681Z"
    },
    "papermill": {
     "duration": 0.175092,
     "end_time": "2022-07-04T13:19:08.000219",
     "exception": false,
     "start_time": "2022-07-04T13:19:07.825127",
     "status": "completed"
    },
    "tags": []
   },
   "outputs": [
    {
     "data": {
      "text/html": [
       "<div>\n",
       "<style scoped>\n",
       "    .dataframe tbody tr th:only-of-type {\n",
       "        vertical-align: middle;\n",
       "    }\n",
       "\n",
       "    .dataframe tbody tr th {\n",
       "        vertical-align: top;\n",
       "    }\n",
       "\n",
       "    .dataframe thead th {\n",
       "        text-align: right;\n",
       "    }\n",
       "</style>\n",
       "<table border=\"1\" class=\"dataframe\">\n",
       "  <thead>\n",
       "    <tr style=\"text-align: right;\">\n",
       "      <th></th>\n",
       "      <th>gender</th>\n",
       "      <th>cholesterol</th>\n",
       "      <th>gluc</th>\n",
       "      <th>smoke</th>\n",
       "      <th>alco</th>\n",
       "      <th>active</th>\n",
       "      <th>cardio</th>\n",
       "      <th>bmicat</th>\n",
       "      <th>agecat</th>\n",
       "      <th>hyper_tension_gr</th>\n",
       "    </tr>\n",
       "  </thead>\n",
       "  <tbody>\n",
       "    <tr>\n",
       "      <th>0</th>\n",
       "      <td>1</td>\n",
       "      <td>1</td>\n",
       "      <td>1</td>\n",
       "      <td>0</td>\n",
       "      <td>0</td>\n",
       "      <td>1</td>\n",
       "      <td>0</td>\n",
       "      <td>2.0</td>\n",
       "      <td>5.0</td>\n",
       "      <td>1</td>\n",
       "    </tr>\n",
       "    <tr>\n",
       "      <th>1</th>\n",
       "      <td>0</td>\n",
       "      <td>3</td>\n",
       "      <td>1</td>\n",
       "      <td>0</td>\n",
       "      <td>0</td>\n",
       "      <td>1</td>\n",
       "      <td>1</td>\n",
       "      <td>4.0</td>\n",
       "      <td>6.0</td>\n",
       "      <td>2</td>\n",
       "    </tr>\n",
       "    <tr>\n",
       "      <th>2</th>\n",
       "      <td>0</td>\n",
       "      <td>3</td>\n",
       "      <td>1</td>\n",
       "      <td>0</td>\n",
       "      <td>0</td>\n",
       "      <td>0</td>\n",
       "      <td>1</td>\n",
       "      <td>2.0</td>\n",
       "      <td>5.0</td>\n",
       "      <td>1</td>\n",
       "    </tr>\n",
       "  </tbody>\n",
       "</table>\n",
       "</div>"
      ],
      "text/plain": [
       "   gender  cholesterol  gluc  smoke  alco  active  cardio  bmicat  agecat  \\\n",
       "0       1            1     1      0     0       1       0     2.0     5.0   \n",
       "1       0            3     1      0     0       1       1     4.0     6.0   \n",
       "2       0            3     1      0     0       0       1     2.0     5.0   \n",
       "\n",
       "   hyper_tension_gr  \n",
       "0                 1  \n",
       "1                 2  \n",
       "2                 1  "
      ]
     },
     "execution_count": 25,
     "metadata": {},
     "output_type": "execute_result"
    }
   ],
   "source": [
    "from sklearn import preprocessing\n",
    "le = preprocessing.LabelEncoder()\n",
    "df.gender = le.fit_transform(df.gender)\n",
    "df.head(3)"
   ]
  },
  {
   "cell_type": "code",
   "execution_count": 26,
   "id": "da305a5a",
   "metadata": {
    "execution": {
     "iopub.execute_input": "2022-07-04T13:19:08.032798Z",
     "iopub.status.busy": "2022-07-04T13:19:08.032409Z",
     "iopub.status.idle": "2022-07-04T13:19:08.085300Z",
     "shell.execute_reply": "2022-07-04T13:19:08.083842Z"
    },
    "papermill": {
     "duration": 0.07202,
     "end_time": "2022-07-04T13:19:08.087768",
     "exception": false,
     "start_time": "2022-07-04T13:19:08.015748",
     "status": "completed"
    },
    "tags": []
   },
   "outputs": [
    {
     "data": {
      "text/html": [
       "<div>\n",
       "<style scoped>\n",
       "    .dataframe tbody tr th:only-of-type {\n",
       "        vertical-align: middle;\n",
       "    }\n",
       "\n",
       "    .dataframe tbody tr th {\n",
       "        vertical-align: top;\n",
       "    }\n",
       "\n",
       "    .dataframe thead th {\n",
       "        text-align: right;\n",
       "    }\n",
       "</style>\n",
       "<table border=\"1\" class=\"dataframe\">\n",
       "  <thead>\n",
       "    <tr style=\"text-align: right;\">\n",
       "      <th></th>\n",
       "      <th>cardio</th>\n",
       "      <th>gender_1</th>\n",
       "      <th>cholesterol_2</th>\n",
       "      <th>cholesterol_3</th>\n",
       "      <th>gluc_2</th>\n",
       "      <th>gluc_3</th>\n",
       "      <th>smoke_1</th>\n",
       "      <th>alco_1</th>\n",
       "      <th>active_1</th>\n",
       "      <th>bmicat_2.0</th>\n",
       "      <th>bmicat_3.0</th>\n",
       "      <th>bmicat_4.0</th>\n",
       "      <th>bmicat_5.0</th>\n",
       "      <th>agecat_3.0</th>\n",
       "      <th>agecat_4.0</th>\n",
       "      <th>agecat_5.0</th>\n",
       "      <th>agecat_6.0</th>\n",
       "      <th>agecat_7.0</th>\n",
       "      <th>hyper_tension_gr_2</th>\n",
       "      <th>hyper_tension_gr_3</th>\n",
       "    </tr>\n",
       "  </thead>\n",
       "  <tbody>\n",
       "    <tr>\n",
       "      <th>0</th>\n",
       "      <td>0</td>\n",
       "      <td>1</td>\n",
       "      <td>0</td>\n",
       "      <td>0</td>\n",
       "      <td>0</td>\n",
       "      <td>0</td>\n",
       "      <td>0</td>\n",
       "      <td>0</td>\n",
       "      <td>1</td>\n",
       "      <td>1</td>\n",
       "      <td>0</td>\n",
       "      <td>0</td>\n",
       "      <td>0</td>\n",
       "      <td>0</td>\n",
       "      <td>0</td>\n",
       "      <td>1</td>\n",
       "      <td>0</td>\n",
       "      <td>0</td>\n",
       "      <td>0</td>\n",
       "      <td>0</td>\n",
       "    </tr>\n",
       "    <tr>\n",
       "      <th>1</th>\n",
       "      <td>1</td>\n",
       "      <td>0</td>\n",
       "      <td>0</td>\n",
       "      <td>1</td>\n",
       "      <td>0</td>\n",
       "      <td>0</td>\n",
       "      <td>0</td>\n",
       "      <td>0</td>\n",
       "      <td>1</td>\n",
       "      <td>0</td>\n",
       "      <td>0</td>\n",
       "      <td>1</td>\n",
       "      <td>0</td>\n",
       "      <td>0</td>\n",
       "      <td>0</td>\n",
       "      <td>0</td>\n",
       "      <td>1</td>\n",
       "      <td>0</td>\n",
       "      <td>1</td>\n",
       "      <td>0</td>\n",
       "    </tr>\n",
       "    <tr>\n",
       "      <th>2</th>\n",
       "      <td>1</td>\n",
       "      <td>0</td>\n",
       "      <td>0</td>\n",
       "      <td>1</td>\n",
       "      <td>0</td>\n",
       "      <td>0</td>\n",
       "      <td>0</td>\n",
       "      <td>0</td>\n",
       "      <td>0</td>\n",
       "      <td>1</td>\n",
       "      <td>0</td>\n",
       "      <td>0</td>\n",
       "      <td>0</td>\n",
       "      <td>0</td>\n",
       "      <td>0</td>\n",
       "      <td>1</td>\n",
       "      <td>0</td>\n",
       "      <td>0</td>\n",
       "      <td>0</td>\n",
       "      <td>0</td>\n",
       "    </tr>\n",
       "    <tr>\n",
       "      <th>3</th>\n",
       "      <td>1</td>\n",
       "      <td>1</td>\n",
       "      <td>0</td>\n",
       "      <td>0</td>\n",
       "      <td>0</td>\n",
       "      <td>0</td>\n",
       "      <td>0</td>\n",
       "      <td>0</td>\n",
       "      <td>1</td>\n",
       "      <td>0</td>\n",
       "      <td>1</td>\n",
       "      <td>0</td>\n",
       "      <td>0</td>\n",
       "      <td>0</td>\n",
       "      <td>1</td>\n",
       "      <td>0</td>\n",
       "      <td>0</td>\n",
       "      <td>0</td>\n",
       "      <td>1</td>\n",
       "      <td>0</td>\n",
       "    </tr>\n",
       "    <tr>\n",
       "      <th>4</th>\n",
       "      <td>0</td>\n",
       "      <td>0</td>\n",
       "      <td>0</td>\n",
       "      <td>0</td>\n",
       "      <td>0</td>\n",
       "      <td>0</td>\n",
       "      <td>0</td>\n",
       "      <td>0</td>\n",
       "      <td>0</td>\n",
       "      <td>1</td>\n",
       "      <td>0</td>\n",
       "      <td>0</td>\n",
       "      <td>0</td>\n",
       "      <td>0</td>\n",
       "      <td>1</td>\n",
       "      <td>0</td>\n",
       "      <td>0</td>\n",
       "      <td>0</td>\n",
       "      <td>0</td>\n",
       "      <td>0</td>\n",
       "    </tr>\n",
       "  </tbody>\n",
       "</table>\n",
       "</div>"
      ],
      "text/plain": [
       "   cardio  gender_1  cholesterol_2  cholesterol_3  gluc_2  gluc_3  smoke_1  \\\n",
       "0       0         1              0              0       0       0        0   \n",
       "1       1         0              0              1       0       0        0   \n",
       "2       1         0              0              1       0       0        0   \n",
       "3       1         1              0              0       0       0        0   \n",
       "4       0         0              0              0       0       0        0   \n",
       "\n",
       "   alco_1  active_1  bmicat_2.0  bmicat_3.0  bmicat_4.0  bmicat_5.0  \\\n",
       "0       0         1           1           0           0           0   \n",
       "1       0         1           0           0           1           0   \n",
       "2       0         0           1           0           0           0   \n",
       "3       0         1           0           1           0           0   \n",
       "4       0         0           1           0           0           0   \n",
       "\n",
       "   agecat_3.0  agecat_4.0  agecat_5.0  agecat_6.0  agecat_7.0  \\\n",
       "0           0           0           1           0           0   \n",
       "1           0           0           0           1           0   \n",
       "2           0           0           1           0           0   \n",
       "3           0           1           0           0           0   \n",
       "4           0           1           0           0           0   \n",
       "\n",
       "   hyper_tension_gr_2  hyper_tension_gr_3  \n",
       "0                   0                   0  \n",
       "1                   1                   0  \n",
       "2                   0                   0  \n",
       "3                   1                   0  \n",
       "4                   0                   0  "
      ]
     },
     "execution_count": 26,
     "metadata": {},
     "output_type": "execute_result"
    }
   ],
   "source": [
    "df = pd.get_dummies(df,columns=['gender', 'cholesterol', 'gluc', 'smoke', 'alco', 'active', 'bmicat',\n",
    "       'agecat', 'hyper_tension_gr'],drop_first=True)\n",
    "df.head()"
   ]
  },
  {
   "cell_type": "code",
   "execution_count": 27,
   "id": "f5219901",
   "metadata": {
    "execution": {
     "iopub.execute_input": "2022-07-04T13:19:08.132646Z",
     "iopub.status.busy": "2022-07-04T13:19:08.132089Z",
     "iopub.status.idle": "2022-07-04T13:19:08.143997Z",
     "shell.execute_reply": "2022-07-04T13:19:08.143113Z"
    },
    "papermill": {
     "duration": 0.038174,
     "end_time": "2022-07-04T13:19:08.146961",
     "exception": false,
     "start_time": "2022-07-04T13:19:08.108787",
     "status": "completed"
    },
    "tags": []
   },
   "outputs": [
    {
     "data": {
      "text/plain": [
       "((66826, 19), (66826,))"
      ]
     },
     "execution_count": 27,
     "metadata": {},
     "output_type": "execute_result"
    }
   ],
   "source": [
    "X = df.copy()\n",
    "y = X.cardio\n",
    "X.drop(columns=\"cardio\",inplace=True)\n",
    "X.shape,y.shape"
   ]
  },
  {
   "cell_type": "code",
   "execution_count": 28,
   "id": "02afaba1",
   "metadata": {
    "execution": {
     "iopub.execute_input": "2022-07-04T13:19:08.189734Z",
     "iopub.status.busy": "2022-07-04T13:19:08.188862Z",
     "iopub.status.idle": "2022-07-04T13:19:08.270183Z",
     "shell.execute_reply": "2022-07-04T13:19:08.269108Z"
    },
    "papermill": {
     "duration": 0.104027,
     "end_time": "2022-07-04T13:19:08.272485",
     "exception": false,
     "start_time": "2022-07-04T13:19:08.168458",
     "status": "completed"
    },
    "tags": []
   },
   "outputs": [
    {
     "data": {
      "text/plain": [
       "((46778, 19), (20048, 19), (46778,), (20048,))"
      ]
     },
     "execution_count": 28,
     "metadata": {},
     "output_type": "execute_result"
    }
   ],
   "source": [
    "from sklearn.model_selection import StratifiedKFold, train_test_split\n",
    "X_train, X_test, y_train, y_test = train_test_split(X,y,test_size = 0.3,random_state=42)\n",
    "#train = pd.concat([X_train,y_train],axis=1)\n",
    "#test = pd.concat([X_test,y_test],axis=1)\n",
    "X_train.shape, X_test.shape, y_train.shape, y_test.shape"
   ]
  },
  {
   "cell_type": "markdown",
   "id": "d72dcd85",
   "metadata": {
    "papermill": {
     "duration": 0.015195,
     "end_time": "2022-07-04T13:19:08.303499",
     "exception": false,
     "start_time": "2022-07-04T13:19:08.288304",
     "status": "completed"
    },
    "tags": []
   },
   "source": [
    "![pycaret result](https://pbs.twimg.com/media/FW0vrfwWAAQ4Lwc?format=jpg&name=large)"
   ]
  },
  {
   "cell_type": "markdown",
   "id": "931ca017",
   "metadata": {
    "papermill": {
     "duration": 0.015092,
     "end_time": "2022-07-04T13:19:08.334465",
     "exception": false,
     "start_time": "2022-07-04T13:19:08.319373",
     "status": "completed"
    },
    "tags": []
   },
   "source": [
    "### I think that, if PSO algorithms will find more than 70% accuracy it is very well."
   ]
  },
  {
   "cell_type": "code",
   "execution_count": 29,
   "id": "998dbff6",
   "metadata": {
    "execution": {
     "iopub.execute_input": "2022-07-04T13:19:08.366676Z",
     "iopub.status.busy": "2022-07-04T13:19:08.366285Z",
     "iopub.status.idle": "2022-07-04T13:19:08.373545Z",
     "shell.execute_reply": "2022-07-04T13:19:08.372425Z"
    },
    "papermill": {
     "duration": 0.026157,
     "end_time": "2022-07-04T13:19:08.375852",
     "exception": false,
     "start_time": "2022-07-04T13:19:08.349695",
     "status": "completed"
    },
    "tags": []
   },
   "outputs": [
    {
     "data": {
      "text/plain": [
       "((46778, 19), (46778,))"
      ]
     },
     "execution_count": 29,
     "metadata": {},
     "output_type": "execute_result"
    }
   ],
   "source": [
    "X_train = X_train.values\n",
    "y_train = y_train.values\n",
    "X_train.shape,y_train.shape"
   ]
  },
  {
   "cell_type": "markdown",
   "id": "f8e9944a",
   "metadata": {
    "papermill": {
     "duration": 0.014929,
     "end_time": "2022-07-04T13:19:08.406712",
     "exception": false,
     "start_time": "2022-07-04T13:19:08.391783",
     "status": "completed"
    },
    "tags": []
   },
   "source": [
    "# Particles Swarm Optimization in Case\n",
    "\n",
    "* Last week, I prepared a tutorial on Particle Swarm Optimization and created and shared a notebook with the relevant Benchmark tests. This week we will use this algorithm with real world data.\n",
    "    * [Tutorial link](https://www.kaggle.com/code/zzettrkalpakbal/particle-swarm-optimization-benchmark-tests)\n",
    "    \n",
    "![foto](https://media.springernature.com/full/springer-static/image/art%3A10.1007%2Fs13762-018-1970-x/MediaObjects/13762_2018_1970_Fig1_HTML.png?as=webp)    \n",
    "\n",
    "\n",
    "\n"
   ]
  },
  {
   "cell_type": "markdown",
   "id": "85f65278",
   "metadata": {
    "papermill": {
     "duration": 0.015048,
     "end_time": "2022-07-04T13:19:08.437059",
     "exception": false,
     "start_time": "2022-07-04T13:19:08.422011",
     "status": "completed"
    },
    "tags": []
   },
   "source": [
    "* Recall that neural networks can simply be seen as a mapping function from one space to another. For now, we’ll build a simple neural network with the following characteristics: \n",
    "    \n",
    "    * Input layer size: 19 \n",
    "    * Hidden layer size: 20 (activation: tanh(x)) \n",
    "    * Output layer size: 2 (activation: softmax(x))\n",
    "\n",
    "\n",
    "* Things we’ll do: \n",
    "    1. Create a forward_prop method that will do forward propagation for one particle. \n",
    "    2. Create an overhead objective function f() that will compute forward_prop() for the whole swarm.\n",
    "\n",
    "* What we’ll be doing then is to create a swarm with a number of dimensions equal to the weights and biases. We will unroll these parameters into an n-dimensional array, and have each particle take on different values. Thus, each particle represents a candidate neural network with its own weights and bias. When feeding back to the network, we will reconstruct the learned weights and biases.\n",
    "\n",
    "* When rolling-back the parameters into weights and biases, it is useful to recall the shape and bias matrices: \n",
    "    * Shape of input-to-hidden weight matrix: (19, 20) \n",
    "    * Shape of input-to-hidden bias array: (20, ) \n",
    "    * Shape of hidden-to-output weight matrix: (20, 2) \n",
    "    * Shape of hidden-to-output bias array: (2, )\n",
    "\n",
    "* By unrolling them together, we have; \n",
    "    * (19∗20)+(20∗2)+20+2=442 parameters, or 442 dimensions for each particle in the swarm.\n",
    "\n",
    "* The negative log-likelihood will be used to compute for the error between the ground-truth values and the predictions. Also, because PSO doesn’t rely on the gradients, we’ll not be performing backpropagation (this may be a good thing or bad thing under some circumstances).\n",
    "\n",
    "* Now, let’s write the forward propagation procedure as our objective function. Let X be the input, zl the pre-activation at layer l, and al the activation for layer l:"
   ]
  },
  {
   "cell_type": "code",
   "execution_count": 30,
   "id": "464d596f",
   "metadata": {
    "execution": {
     "iopub.execute_input": "2022-07-04T13:19:08.471101Z",
     "iopub.status.busy": "2022-07-04T13:19:08.470688Z",
     "iopub.status.idle": "2022-07-04T13:19:08.476052Z",
     "shell.execute_reply": "2022-07-04T13:19:08.474930Z"
    },
    "papermill": {
     "duration": 0.02478,
     "end_time": "2022-07-04T13:19:08.478333",
     "exception": false,
     "start_time": "2022-07-04T13:19:08.453553",
     "status": "completed"
    },
    "tags": []
   },
   "outputs": [],
   "source": [
    "n_inputs = X_train.shape[1]\n",
    "n_hidden = 20\n",
    "n_classes = 2\n",
    "num_samples = len(X_train)\n",
    "iteration = 1000"
   ]
  },
  {
   "cell_type": "code",
   "execution_count": 31,
   "id": "20963fbd",
   "metadata": {
    "execution": {
     "iopub.execute_input": "2022-07-04T13:19:08.511748Z",
     "iopub.status.busy": "2022-07-04T13:19:08.511135Z",
     "iopub.status.idle": "2022-07-04T13:19:08.515792Z",
     "shell.execute_reply": "2022-07-04T13:19:08.514976Z"
    },
    "papermill": {
     "duration": 0.024017,
     "end_time": "2022-07-04T13:19:08.518115",
     "exception": false,
     "start_time": "2022-07-04T13:19:08.494098",
     "status": "completed"
    },
    "tags": []
   },
   "outputs": [],
   "source": [
    "a = n_inputs*n_hidden\n",
    "b = a+n_hidden\n",
    "c = b+(n_hidden*n_classes)\n",
    "d = c+n_classes"
   ]
  },
  {
   "cell_type": "code",
   "execution_count": 32,
   "id": "6bd2f241",
   "metadata": {
    "execution": {
     "iopub.execute_input": "2022-07-04T13:19:08.551728Z",
     "iopub.status.busy": "2022-07-04T13:19:08.551078Z",
     "iopub.status.idle": "2022-07-04T13:19:08.558222Z",
     "shell.execute_reply": "2022-07-04T13:19:08.557401Z"
    },
    "papermill": {
     "duration": 0.026867,
     "end_time": "2022-07-04T13:19:08.560513",
     "exception": false,
     "start_time": "2022-07-04T13:19:08.533646",
     "status": "completed"
    },
    "tags": []
   },
   "outputs": [],
   "source": [
    "def logits_function(p):\n",
    "    \"\"\" Calculate roll-back the weights and biases\n",
    "\n",
    "    Inputs\n",
    "    ------\n",
    "    p: np.ndarray\n",
    "        The dimensions should include an unrolled version of the\n",
    "        weights and biases.\n",
    "\n",
    "    Returns\n",
    "    -------\n",
    "    numpy.ndarray of logits for layer 2\n",
    "\n",
    "    \"\"\"\n",
    "    # Roll-back the weights and biases\n",
    "    W1 = p[0:a].reshape((n_inputs,n_hidden))\n",
    "    b1 = p[a:b].reshape((n_hidden,))\n",
    "    W2 = p[b:c].reshape((n_hidden,n_classes))\n",
    "    b2 = p[c:d].reshape((n_classes,))\n",
    "\n",
    "    # Perform forward propagation\n",
    "    z1 = X_train.dot(W1) + b1  # Pre-activation in Layer 1\n",
    "    a1 = np.tanh(z1)     # Activation in Layer 1\n",
    "    logits = a1.dot(W2) + b2 # Pre-activation in Layer 2\n",
    "    return logits          # Logits for Layer 2"
   ]
  },
  {
   "cell_type": "code",
   "execution_count": 33,
   "id": "c42fd93a",
   "metadata": {
    "execution": {
     "iopub.execute_input": "2022-07-04T13:19:08.593849Z",
     "iopub.status.busy": "2022-07-04T13:19:08.593113Z",
     "iopub.status.idle": "2022-07-04T13:19:08.599594Z",
     "shell.execute_reply": "2022-07-04T13:19:08.598837Z"
    },
    "papermill": {
     "duration": 0.025876,
     "end_time": "2022-07-04T13:19:08.601725",
     "exception": false,
     "start_time": "2022-07-04T13:19:08.575849",
     "status": "completed"
    },
    "tags": []
   },
   "outputs": [],
   "source": [
    "# Forward propagation\n",
    "def forward_prop(params):\n",
    "    \"\"\"Forward propagation as objective function\n",
    "\n",
    "    This computes for the forward propagation of the neural network, as\n",
    "    well as the loss.\n",
    "\n",
    "    Inputs\n",
    "    ------\n",
    "    params: np.ndarray\n",
    "        The dimensions should include an unrolled version of the\n",
    "        weights and biases.\n",
    "\n",
    "    Returns\n",
    "    -------\n",
    "    float\n",
    "        The computed negative log-likelihood loss given the parameters\n",
    "    \"\"\"\n",
    "\n",
    "    logits = logits_function(params)\n",
    "\n",
    "    # Compute for the softmax of the logits\n",
    "    exp_scores = np.exp(logits)\n",
    "    probs = exp_scores / np.sum(exp_scores, axis=1, keepdims=True)\n",
    "\n",
    "    # Compute for the negative log likelihood\n",
    "\n",
    "    corect_logprobs = -np.log(probs[range(num_samples), y_train])\n",
    "    loss = np.sum(corect_logprobs) / num_samples\n",
    "\n",
    "    return loss"
   ]
  },
  {
   "cell_type": "code",
   "execution_count": 34,
   "id": "8815f851",
   "metadata": {
    "execution": {
     "iopub.execute_input": "2022-07-04T13:19:08.634956Z",
     "iopub.status.busy": "2022-07-04T13:19:08.634218Z",
     "iopub.status.idle": "2022-07-04T13:19:08.640178Z",
     "shell.execute_reply": "2022-07-04T13:19:08.639237Z"
    },
    "papermill": {
     "duration": 0.025363,
     "end_time": "2022-07-04T13:19:08.642427",
     "exception": false,
     "start_time": "2022-07-04T13:19:08.617064",
     "status": "completed"
    },
    "tags": []
   },
   "outputs": [],
   "source": [
    "def f(x):\n",
    "    \"\"\"Higher-level method to do forward_prop in the\n",
    "    whole swarm.\n",
    "\n",
    "    Inputs\n",
    "    ------\n",
    "    x: numpy.ndarray of shape (n_particles, dimensions)\n",
    "        The swarm that will perform the search\n",
    "\n",
    "    Returns\n",
    "    -------\n",
    "    numpy.ndarray of shape (n_particles, )\n",
    "        The computed loss for each particle\n",
    "    \"\"\"\n",
    "    n_particles = x.shape[0]\n",
    "    j = [forward_prop(x[i]) for i in range(n_particles)]\n",
    "    return np.array(j)"
   ]
  },
  {
   "cell_type": "code",
   "execution_count": 35,
   "id": "c281008c",
   "metadata": {
    "execution": {
     "iopub.execute_input": "2022-07-04T13:19:08.675820Z",
     "iopub.status.busy": "2022-07-04T13:19:08.675067Z",
     "iopub.status.idle": "2022-07-04T15:48:13.227938Z",
     "shell.execute_reply": "2022-07-04T15:48:13.226764Z"
    },
    "papermill": {
     "duration": 8944.721336,
     "end_time": "2022-07-04T15:48:13.379179",
     "exception": false,
     "start_time": "2022-07-04T13:19:08.657843",
     "status": "completed"
    },
    "tags": []
   },
   "outputs": [
    {
     "name": "stderr",
     "output_type": "stream",
     "text": [
      "2022-07-04 13:19:08,686 - pyswarms.single.global_best - INFO - Optimize for 1000 iters with {'c1': 0.8, 'c2': 0.6, 'w': 0.9}\n",
      "pyswarms.single.global_best: 100%|██████████|1000/1000, best_cost=0.584\n",
      "2022-07-04 15:48:13,222 - pyswarms.single.global_best - INFO - Optimization finished | best cost: 0.5842314678208745, best pos: [ 1.62149699e-01  2.80856884e+00 -3.42636548e-01  2.08372590e-02\n",
      " -5.96195211e-02  6.37490619e-01  3.70295241e-01  1.32094077e-01\n",
      "  4.85014314e-01  1.17367207e+00 -1.20405620e-01 -3.31395903e-01\n",
      " -2.25694130e-01  5.71819228e-01  2.83557905e-01 -1.02552844e-01\n",
      " -2.51830815e-01  1.77053715e+00  2.04642161e+00  2.52213925e+00\n",
      " -9.16457783e-01 -2.25751693e-01  4.07378028e-01 -3.38829261e-01\n",
      " -3.94193099e-01  4.00967872e-01  8.32679571e-01 -1.17482802e-01\n",
      "  8.25396169e-01  3.80183223e-01 -3.66366506e-02 -2.50177196e-02\n",
      "  6.03734924e-01  1.02138155e-01  4.19685446e-01  6.17793285e-01\n",
      " -3.56679290e-01 -1.41800659e-01  1.07870530e+00  1.55278806e-02\n",
      "  8.79499581e-01  5.93191477e-01  1.09607702e+00  7.82216776e-01\n",
      "  2.12728252e+00  2.01784836e-01  8.59917022e-02 -2.72081403e-01\n",
      "  6.40969966e-02  1.09923761e+00 -2.20957095e+00 -6.24494030e-02\n",
      "  1.24965924e+00  9.90166662e-01  6.19246812e-01  1.19293076e+00\n",
      "  5.39798777e-01  1.97692701e-01 -3.16509072e-01  4.93395050e-01\n",
      " -9.32337336e-02  5.94749186e-01  5.97593214e-01 -1.74977589e-01\n",
      "  2.56130935e+00  1.28963790e+00  2.28210365e+00  2.07889657e-02\n",
      " -7.59361306e-01  9.25338843e-01  2.96300268e-01 -1.18284752e+00\n",
      " -3.04758231e-01 -6.21944265e-01  3.45208552e-01  1.00168296e-01\n",
      "  2.94582657e+00 -8.05696519e-02  1.00897397e+00  1.83653038e-01\n",
      "  1.12527910e+00  3.80151554e-01  1.36694085e+00 -1.80903807e+00\n",
      "  8.52263786e-02  3.49524444e-01 -3.51634346e-01  4.63347758e-01\n",
      "  7.75340626e-01  3.18982707e+00  3.71016298e-01 -3.15641909e+00\n",
      " -2.25385040e+00  4.56221900e-01  8.33950721e-01  2.46133682e-01\n",
      "  5.16299051e-01  4.28934128e-01  2.95581804e-01  8.65890328e-01\n",
      " -4.90345693e-01 -5.42976849e-01 -4.06535936e-01  7.38009645e-01\n",
      "  5.15044864e-01 -4.06323224e+00  5.80602574e-01 -2.73872605e-01\n",
      "  7.38005285e-01 -7.29782571e-02  5.34078399e-01  4.46575330e-01\n",
      " -2.29827996e-01  1.66135115e+00 -7.21848989e-01 -3.35251446e-01\n",
      " -3.13446658e-01  5.89531598e-01  7.67124239e-01  1.79875401e+00\n",
      " -2.04895157e+00 -1.45676089e-01  6.89859801e-01  1.11212602e+00\n",
      "  1.85908150e+00 -4.55897434e-01  1.74670081e+00 -5.46122491e-01\n",
      " -8.71381091e-02 -1.07482852e+00 -1.14537375e+00  3.35026410e-02\n",
      "  2.81872727e-02  9.59335153e-01  5.83156813e-02  7.89475051e-01\n",
      "  6.04114204e-01  1.21166650e+00  1.11666150e-01  1.45502730e+00\n",
      "  5.77963731e-01 -4.44480997e-01  1.06078847e+00  1.94287044e+00\n",
      "  4.31302394e-01  6.83693413e-01  8.91854137e-03  5.21389592e-01\n",
      "  4.19664461e-01  1.03185286e+00 -3.46028329e-01  5.14251807e-01\n",
      " -4.64085391e-01 -4.09925702e-01  6.38409877e-01  1.01308828e+00\n",
      " -3.57360556e-01  1.48084698e-01  2.60118062e-01  8.36962071e-01\n",
      " -7.94449922e-01  1.21520040e+00 -7.91367564e-03  2.39189335e+00\n",
      "  1.47291739e-02  5.24394070e-01  1.08050169e+00 -5.09228089e-01\n",
      "  2.98850354e-01  6.68712392e-01  6.80658097e-01  9.51255799e-01\n",
      "  5.37648054e-02  2.05079615e-01 -4.18129209e-02  4.31215289e-01\n",
      "  3.48596038e-01 -3.03468648e-02  8.29446396e-01  8.08015168e-01\n",
      "  2.52719381e-01  6.20728734e-01  1.17583743e-02  8.55918205e-01\n",
      " -1.11534899e+00 -7.75921019e-01  8.88738267e-01 -6.41175290e-01\n",
      "  2.21232456e-01  5.00250307e-01  1.29062427e-01  1.40424001e+00\n",
      "  4.60386439e-02 -2.67453654e-01  1.10918064e-01  1.38597053e-01\n",
      " -2.12637359e-01  1.17291693e+00  3.07571777e-01  2.38232144e-01\n",
      " -6.42141996e-02 -3.47921507e-01  6.48864132e-01  5.77804285e-01\n",
      "  5.83436793e-01  1.84622729e-01  2.87069898e-01  8.96375407e-01\n",
      "  9.71110210e-01  4.92893853e-02  9.06646761e-01 -5.22513562e-01\n",
      "  2.36829606e-01 -8.69675102e-02  1.38964251e-01  7.26245479e-01\n",
      "  1.63770465e-01  1.33290697e-01 -1.13985047e-01  6.79102975e-01\n",
      "  3.98810987e-01  1.04259801e+00 -2.38295110e-01 -4.92404673e-01\n",
      " -2.82500437e-01  4.85862982e-01  3.31464817e-02  3.33121802e-01\n",
      "  4.49422022e-01  8.16775756e-01  4.05216195e-01 -2.82753739e-01\n",
      "  5.79870076e-01 -1.33825565e-01 -5.95274561e-02  4.31988644e-01\n",
      "  2.32102362e-01  2.44911035e-01 -1.03973496e-01  9.35697141e-01\n",
      "  1.01859660e-01  1.66409522e-01  8.69047338e-01 -5.66101292e-01\n",
      " -6.45390868e-02 -4.82749527e-01 -2.04749083e-01  7.63446519e-01\n",
      "  1.21457263e+00  1.39605160e+00  2.54856836e-01  2.34443176e-01\n",
      "  3.57296045e-01 -2.41990158e-02 -7.52699118e-01 -1.55536135e+00\n",
      "  5.09692354e-01  8.87099699e-02  2.60571368e-01  1.98758272e+00\n",
      "  4.65268926e-01  5.68367421e-01  3.04332362e-01  1.65236277e-01\n",
      "  5.25973661e-01  2.61664546e+00  1.19249453e-01  6.03603764e-01\n",
      "  4.23317821e-01 -1.59214255e+00  3.84024736e-01 -7.32142338e-02\n",
      "  5.29649624e-01  2.93411544e-01  1.35805104e+00 -5.83268358e-01\n",
      "  3.56552930e-01  9.04182442e-01  2.21196011e-01  1.37677008e+00\n",
      " -1.21703291e-01  1.06216626e+00 -1.27318939e-01  8.99723839e-02\n",
      "  2.96038036e-01 -6.04783473e-01 -2.81497779e-01  5.14670257e-01\n",
      " -1.40954329e-01  2.12023434e+00 -1.57846816e-01  6.11971445e-01\n",
      "  5.32985071e-01  2.96050156e-01 -2.81669838e-01  6.91989622e-01\n",
      "  5.86240611e-01 -2.12893865e-01  6.68636689e-01 -1.21108975e-03\n",
      "  1.71040124e-01 -5.72482839e-01  4.16530891e-01  6.02573741e-01\n",
      "  7.86099950e-01  8.37874628e-01  4.90529384e-01  8.45892653e-01\n",
      " -3.66877026e-01 -1.81913333e-01  5.43662564e-01 -1.45013935e+00\n",
      "  1.07818588e+00  5.79417296e-01 -3.52038904e-01  4.22818147e-01\n",
      "  1.67718706e-01  8.07878650e-01  7.43010911e-01  1.66070487e+00\n",
      " -1.14045602e-01  2.25817213e+00  9.16570765e-01  1.46255756e+00\n",
      "  1.10278127e+00  8.84846144e-01  3.71734816e-01  1.60629347e+00\n",
      "  5.58761074e-01  2.40279552e-01  8.31137369e-01  4.26191201e-01\n",
      "  1.04126822e+00  6.85433139e-01  4.82582300e-01  4.99182849e-01\n",
      "  8.86121032e-01 -2.31550480e-01  1.87928576e-01  8.39696970e-01\n",
      "  1.85496178e+00  4.49482139e-01  2.99080590e-01 -2.30906021e-01\n",
      "  8.00706385e-01  3.67887987e-01  3.11166125e-01  4.12916580e-01\n",
      "  6.85174498e-01  1.41582172e+00  5.55519333e-01  2.76544662e-01\n",
      "  2.20240842e+00  7.02798428e-01 -2.68291163e-01  1.16725908e+00\n",
      "  3.73033078e+00 -3.56779584e-01  1.71127493e+00 -1.55657738e-01\n",
      "  1.54658491e-01 -2.66628522e-01  1.40652761e-01  2.62458127e+00\n",
      "  1.78885825e-01  3.04542771e-01  2.78955274e+00  1.74547352e-01\n",
      "  6.17785955e-01  1.17630965e+00  9.08762581e-01  6.06778719e-02\n",
      "  1.50297344e+00  3.54814440e-01  6.39435059e-01  5.36861939e-01\n",
      "  1.32670273e+00  2.54453904e-01  3.18094200e-01 -9.66082987e-02\n",
      "  2.96014316e-01  7.10630477e-01 -4.07165720e-01  7.76732002e-01\n",
      "  7.08737711e-01 -1.42498444e-01  6.75654119e-01 -8.03347618e-02\n",
      "  1.72346070e-02  8.20879362e-01  1.75642441e+00  1.43566542e-02\n",
      " -6.29189825e-01  3.51969180e-01  8.38178485e-01  3.91279964e-01\n",
      "  9.54175413e-02  1.60176600e+00  9.17212354e-01  3.13224088e-01\n",
      "  1.82120023e-01  5.54478940e-01 -1.10922376e+00 -9.66113653e-01\n",
      "  6.05268972e-02 -3.58425684e-02  3.53179719e-01 -5.99158166e-01\n",
      "  6.32309689e-02 -4.66346197e-01  3.59776342e-01  4.00566618e-01\n",
      "  9.16069340e-01  2.25155333e+00 -2.66891898e-01  5.38382167e-01\n",
      "  1.59633909e-01 -3.94240658e-03 -1.10187308e-01  3.33193001e-01\n",
      "  1.01993844e+00  4.54506021e-01  2.70879006e-01  2.91680703e-01\n",
      " -6.44061044e-01  2.10941828e-01 -1.02462251e-01  5.06177275e-01\n",
      "  7.08513922e-01  1.05929079e+00 -7.22005156e-02  4.19775768e-01\n",
      " -1.87044305e-01  2.63633000e-01  1.43595594e+00 -2.35850084e-01\n",
      "  7.91750209e-01  1.04638240e-01  7.41925168e-01  9.41332595e-01\n",
      " -5.01996759e-01 -2.92107745e-01]\n"
     ]
    },
    {
     "name": "stdout",
     "output_type": "stream",
     "text": [
      "CPU times: user 5h 1min 16s, sys: 4h 43min 13s, total: 9h 44min 29s\n",
      "Wall time: 2h 29min 4s\n"
     ]
    }
   ],
   "source": [
    "%%time\n",
    "# Initialize swarm\n",
    "options = {'c1': 0.8, 'c2': 0.6, 'w':0.9}\n",
    "\n",
    "# Call instance of PSO\n",
    "dimensions = (n_inputs * n_hidden) + (n_hidden * n_classes) + n_hidden + n_classes\n",
    "optimizer = ps.single.GlobalBestPSO(n_particles=100, dimensions=dimensions, options=options)\n",
    "\n",
    "# Perform optimization\n",
    "cost, pos = optimizer.optimize(f, iters=iteration)"
   ]
  },
  {
   "cell_type": "code",
   "execution_count": 36,
   "id": "8777ea74",
   "metadata": {
    "execution": {
     "iopub.execute_input": "2022-07-04T15:48:13.671103Z",
     "iopub.status.busy": "2022-07-04T15:48:13.669920Z",
     "iopub.status.idle": "2022-07-04T15:48:13.675255Z",
     "shell.execute_reply": "2022-07-04T15:48:13.674412Z"
    },
    "papermill": {
     "duration": 0.186102,
     "end_time": "2022-07-04T15:48:13.677346",
     "exception": false,
     "start_time": "2022-07-04T15:48:13.491244",
     "status": "completed"
    },
    "tags": []
   },
   "outputs": [],
   "source": [
    "def predict(pos):\n",
    "    \"\"\"\n",
    "    Use the trained weights to perform class predictions.\n",
    "\n",
    "    Inputs\n",
    "    ------\n",
    "    pos: numpy.ndarray\n",
    "        Position matrix found by the swarm. Will be rolled\n",
    "        into weights and biases.\n",
    "    \"\"\"\n",
    "    logits = logits_function(pos)\n",
    "    y_pred = np.argmax(logits, axis=1)\n",
    "    return y_pred\n",
    "    "
   ]
  },
  {
   "cell_type": "code",
   "execution_count": 37,
   "id": "f760113b",
   "metadata": {
    "execution": {
     "iopub.execute_input": "2022-07-04T15:48:13.898296Z",
     "iopub.status.busy": "2022-07-04T15:48:13.897492Z",
     "iopub.status.idle": "2022-07-04T15:48:13.984215Z",
     "shell.execute_reply": "2022-07-04T15:48:13.982937Z"
    },
    "papermill": {
     "duration": 0.200724,
     "end_time": "2022-07-04T15:48:13.987575",
     "exception": false,
     "start_time": "2022-07-04T15:48:13.786851",
     "status": "completed"
    },
    "tags": []
   },
   "outputs": [
    {
     "data": {
      "text/plain": [
       "0.7021249305228954"
      ]
     },
     "execution_count": 37,
     "metadata": {},
     "output_type": "execute_result"
    }
   ],
   "source": [
    "(predict(pos) == y_train).mean()"
   ]
  },
  {
   "cell_type": "code",
   "execution_count": 38,
   "id": "69e13d61",
   "metadata": {
    "execution": {
     "iopub.execute_input": "2022-07-04T15:48:14.270767Z",
     "iopub.status.busy": "2022-07-04T15:48:14.270384Z",
     "iopub.status.idle": "2022-07-04T15:48:14.424299Z",
     "shell.execute_reply": "2022-07-04T15:48:14.423043Z"
    },
    "papermill": {
     "duration": 0.26855,
     "end_time": "2022-07-04T15:48:14.426650",
     "exception": false,
     "start_time": "2022-07-04T15:48:14.158100",
     "status": "completed"
    },
    "tags": []
   },
   "outputs": [
    {
     "data": {
      "image/png": "[encoded data removed]",
      "text/plain": [
       "<Figure size 720x576 with 1 Axes>"
      ]
     },
     "metadata": {
      "needs_background": "light"
     },
     "output_type": "display_data"
    }
   ],
   "source": [
    "from pyswarms.utils.plotters.formatters import Mesher\n",
    "from pyswarms.utils.plotters import (plot_cost_history, plot_contour, plot_surface)\n",
    "import matplotlib.pyplot as plt\n",
    "plot_cost_history(cost_history=optimizer.cost_history)\n",
    "plt.show()"
   ]
  },
  {
   "cell_type": "markdown",
   "id": "1cd601e6",
   "metadata": {
    "papermill": {
     "duration": 0.1103,
     "end_time": "2022-07-04T15:48:14.649722",
     "exception": false,
     "start_time": "2022-07-04T15:48:14.539422",
     "status": "completed"
    },
    "tags": []
   },
   "source": [
    "As a result, it performed as well as other models. The worst disadvantage is the time! It takes almost four hours to run. Therefore, this algorithm still has a long way to go. However, it provides an alternative to standard algorithms.\n",
    "\n",
    "See you on new notebooks.\n",
    "\n",
    "![a](https://sd.keepcalms.com/i-w600/please-follow-me-and-like-this.jpg)"
   ]
  },
  {
   "cell_type": "code",
   "execution_count": null,
   "id": "6fffbec1",
   "metadata": {
    "papermill": {
     "duration": 0.111078,
     "end_time": "2022-07-04T15:48:14.871865",
     "exception": false,
     "start_time": "2022-07-04T15:48:14.760787",
     "status": "completed"
    },
    "tags": []
   },
   "outputs": [],
   "source": []
  }
 ],
 "metadata": {
  "kernelspec": {
   "display_name": "Python 3",
   "language": "python",
   "name": "python3"
  },
  "language_info": {
   "codemirror_mode": {
    "name": "ipython",
    "version": 3
   },
   "file_extension": ".py",
   "mimetype": "text/x-python",
   "name": "python",
   "nbconvert_exporter": "python",
   "pygments_lexer": "ipython3",
   "version": "3.7.12"
  },
  "papermill": {
   "default_parameters": {},
   "duration": 8990.860241,
   "end_time": "2022-07-04T15:48:15.815650",
   "environment_variables": {},
   "exception": null,
   "input_path": "__notebook__.ipynb",
   "output_path": "__notebook__.ipynb",
   "parameters": {},
   "start_time": "2022-07-04T13:18:24.955409",
   "version": "2.3.4"
  }
 },
 "nbformat": 4,
 "nbformat_minor": 5
}
